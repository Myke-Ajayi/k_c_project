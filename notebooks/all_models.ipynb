{
 "cells": [
  {
   "cell_type": "markdown",
   "metadata": {},
   "source": [
    "## Import Libraries"
   ]
  },
  {
   "cell_type": "code",
   "execution_count": 1,
   "metadata": {},
   "outputs": [],
   "source": [
    "import numpy as np\n",
    "import pandas as pd\n",
    "\n",
    "import matplotlib.pyplot as plt\n",
    "import seaborn as sns\n",
    "\n",
    "from statsmodels.formula.api import ols\n",
    "import statsmodels.api as sm\n",
    "from sklearn.preprocessing import OneHotEncoder\n",
    "from sklearn.preprocessing import StandardScaler\n",
    "from sklearn.linear_model import LinearRegression\n",
    "from sklearn.metrics import r2_score, mean_squared_error, mean_absolute_error"
   ]
  },
  {
   "cell_type": "markdown",
   "metadata": {},
   "source": [
    "## Import data"
   ]
  },
  {
   "cell_type": "code",
   "execution_count": 2,
   "metadata": {},
   "outputs": [],
   "source": [
    "X_train = pd.read_csv('data/X_train.csv', index_col=0)\n",
    "X_test = pd.read_csv('data/X_test.csv', index_col=0)\n",
    "y_train = pd.read_csv('data/y_train.csv', index_col=0)\n",
    "y_test = pd.read_csv('data/y_test.csv', index_col=0)"
   ]
  },
  {
   "cell_type": "code",
   "execution_count": 3,
   "metadata": {},
   "outputs": [],
   "source": [
    "train_df = pd.concat([X_train, y_train], axis=1)\n",
    "train_df = train_df.drop(columns = ['id', 'coordinates'])\n",
    "test_df = pd.concat([X_test, y_test], axis=1)\n",
    "test_df = test_df.drop(columns=['id', 'coordinates'])"
   ]
  },
  {
   "cell_type": "markdown",
   "metadata": {},
   "source": [
    "## Create year features"
   ]
  },
  {
   "cell_type": "code",
   "execution_count": 4,
   "metadata": {},
   "outputs": [],
   "source": [
    "#create a 'new_construction' feature\n",
    "train_df['new_construction'] = (train_df['yr_built']>2009) | (train_df['yr_renovated']>2009)\n",
    "test_df['new_construction'] = (test_df['yr_built']> 2009) |(test_df['yr_renovated']>2009)\n",
    "train_df = train_df.drop(columns=['yr_built', 'yr_renovated'])"
   ]
  },
  {
   "cell_type": "code",
   "execution_count": 5,
   "metadata": {},
   "outputs": [
    {
     "data": {
      "text/plain": [
       "False    0.936717\n",
       "True     0.063283\n",
       "Name: new_construction, dtype: float64"
      ]
     },
     "execution_count": 5,
     "metadata": {},
     "output_type": "execute_result"
    }
   ],
   "source": [
    "train_df['new_construction'].value_counts(normalize=True)"
   ]
  },
  {
   "cell_type": "code",
   "execution_count": 6,
   "metadata": {},
   "outputs": [],
   "source": [
    "#create new feature of total rooms in home\n",
    "train_df['total_rooms'] = (train_df['bedrooms'] + train_df['bathrooms'])\n",
    "test_df['total_rooms'] = (test_df['bedrooms'] + test_df['bathrooms'])"
   ]
  },
  {
   "cell_type": "code",
   "execution_count": 7,
   "metadata": {},
   "outputs": [
    {
     "data": {
      "text/plain": [
       "6405     5.50\n",
       "937      5.50\n",
       "19076    9.00\n",
       "15201    4.00\n",
       "13083    5.25\n",
       "Name: total_rooms, dtype: float64"
      ]
     },
     "execution_count": 7,
     "metadata": {},
     "output_type": "execute_result"
    }
   ],
   "source": [
    "train_df['total_rooms'].head()"
   ]
  },
  {
   "cell_type": "code",
   "execution_count": 8,
   "metadata": {},
   "outputs": [
    {
     "data": {
      "text/plain": [
       "(16197, 19)"
      ]
     },
     "execution_count": 8,
     "metadata": {},
     "output_type": "execute_result"
    }
   ],
   "source": [
    "train_df.shape"
   ]
  },
  {
   "cell_type": "code",
   "execution_count": 9,
   "metadata": {},
   "outputs": [
    {
     "data": {
      "text/plain": [
       "(15658, 19)"
      ]
     },
     "execution_count": 9,
     "metadata": {},
     "output_type": "execute_result"
    }
   ],
   "source": [
    "Q1 = train_df.quantile(0.05)\n",
    "Q3 = train_df.quantile(0.95)\n",
    "IQR = Q3 - Q1\n",
    "train_df = train_df[~((train_df < (Q1-1.5*IQR)) | (train_df> (Q3 + 1.5*IQR))).any(axis=1)]\n",
    "\n",
    "train_df.shape"
   ]
  },
  {
   "cell_type": "code",
   "execution_count": 10,
   "metadata": {},
   "outputs": [
    {
     "name": "stdout",
     "output_type": "stream",
     "text": [
      "<class 'pandas.core.frame.DataFrame'>\n",
      "Int64Index: 15658 entries, 6405 to 15795\n",
      "Data columns (total 19 columns):\n",
      " #   Column                     Non-Null Count  Dtype  \n",
      "---  ------                     --------------  -----  \n",
      " 0   bedrooms                   15658 non-null  int64  \n",
      " 1   bathrooms                  15658 non-null  float64\n",
      " 2   sqft_living                15658 non-null  int64  \n",
      " 3   sqft_lot                   15658 non-null  int64  \n",
      " 4   floors                     15658 non-null  float64\n",
      " 5   condition                  15658 non-null  object \n",
      " 6   grade                      15658 non-null  int64  \n",
      " 7   sqft_above                 15658 non-null  int64  \n",
      " 8   sqft_basement              15658 non-null  float64\n",
      " 9   sqft_living15              15658 non-null  int64  \n",
      " 10  sqft_lot15                 15658 non-null  int64  \n",
      " 11  bedrooms_bathrooms         15658 non-null  float64\n",
      " 12  sqft_lot_sqft_living       15658 non-null  float64\n",
      " 13  sqft_living_sqft_living15  15658 non-null  float64\n",
      " 14  sqft_living_bedrooms       15658 non-null  float64\n",
      " 15  grade_category             15658 non-null  object \n",
      " 16  price                      15658 non-null  float64\n",
      " 17  new_construction           15658 non-null  bool   \n",
      " 18  total_rooms                15658 non-null  float64\n",
      "dtypes: bool(1), float64(9), int64(7), object(2)\n",
      "memory usage: 2.3+ MB\n"
     ]
    }
   ],
   "source": [
    "train_df.info()"
   ]
  },
  {
   "cell_type": "markdown",
   "metadata": {},
   "source": [
    "# Standarization"
   ]
  },
  {
   "cell_type": "code",
   "execution_count": 11,
   "metadata": {
    "scrolled": true
   },
   "outputs": [],
   "source": [
    "# plt.figure(figsize = (10, 10))\n",
    "# sns.pairplot(train_df)"
   ]
  },
  {
   "cell_type": "markdown",
   "metadata": {},
   "source": [
    "Log transform right skewed variables"
   ]
  },
  {
   "cell_type": "code",
   "execution_count": 12,
   "metadata": {},
   "outputs": [],
   "source": [
    "def log_transform(df, column): \n",
    "    '''\n",
    "    Input: \n",
    "    df = DataFrame\n",
    "    column = column name as string\n",
    "    \n",
    "    Output: \n",
    "    log of values in column\n",
    "    '''\n",
    "    df[column] = np.log(df[column])"
   ]
  },
  {
   "cell_type": "code",
   "execution_count": 13,
   "metadata": {},
   "outputs": [],
   "source": [
    "log_transform(train_df, 'price')\n",
    "log_transform(test_df, 'price')"
   ]
  },
  {
   "cell_type": "code",
   "execution_count": 14,
   "metadata": {},
   "outputs": [],
   "source": [
    "# log_transform(train_df, 'sqft_living_bedrooms')\n",
    "# log_transform(test_df, 'sqft_living_bedrooms')"
   ]
  },
  {
   "cell_type": "code",
   "execution_count": 15,
   "metadata": {},
   "outputs": [],
   "source": [
    "# log_transform(train_df, 'bedrooms_bathrooms')\n",
    "# log_transform(test_df, 'bedrooms_bathrooms')"
   ]
  },
  {
   "cell_type": "markdown",
   "metadata": {},
   "source": [
    "### Apply Standard Scale"
   ]
  },
  {
   "cell_type": "code",
   "execution_count": 16,
   "metadata": {},
   "outputs": [],
   "source": [
    "X_train = train_df.drop(columns='price')\n",
    "y_train = train_df['price']\n",
    "\n",
    "X_test = test_df.drop(columns = 'price')\n",
    "y_test = test_df['price']"
   ]
  },
  {
   "cell_type": "code",
   "execution_count": 17,
   "metadata": {},
   "outputs": [],
   "source": [
    "#defining columns to be encoded vs scaled\n",
    "cols_to_scale = list(X_train.select_dtypes(include='number').columns)\n",
    "cols_to_encode = list(X_train.select_dtypes(exclude='number').columns)"
   ]
  },
  {
   "cell_type": "markdown",
   "metadata": {},
   "source": [
    "Scaling numerical data:"
   ]
  },
  {
   "cell_type": "code",
   "execution_count": 18,
   "metadata": {},
   "outputs": [
    {
     "data": {
      "text/html": [
       "<div>\n",
       "<style scoped>\n",
       "    .dataframe tbody tr th:only-of-type {\n",
       "        vertical-align: middle;\n",
       "    }\n",
       "\n",
       "    .dataframe tbody tr th {\n",
       "        vertical-align: top;\n",
       "    }\n",
       "\n",
       "    .dataframe thead th {\n",
       "        text-align: right;\n",
       "    }\n",
       "</style>\n",
       "<table border=\"1\" class=\"dataframe\">\n",
       "  <thead>\n",
       "    <tr style=\"text-align: right;\">\n",
       "      <th></th>\n",
       "      <th>bedrooms</th>\n",
       "      <th>bathrooms</th>\n",
       "      <th>sqft_living</th>\n",
       "      <th>sqft_lot</th>\n",
       "      <th>floors</th>\n",
       "      <th>grade</th>\n",
       "      <th>sqft_above</th>\n",
       "      <th>sqft_basement</th>\n",
       "      <th>sqft_living15</th>\n",
       "      <th>sqft_lot15</th>\n",
       "      <th>bedrooms_bathrooms</th>\n",
       "      <th>sqft_lot_sqft_living</th>\n",
       "      <th>sqft_living_sqft_living15</th>\n",
       "      <th>sqft_living_bedrooms</th>\n",
       "      <th>total_rooms</th>\n",
       "    </tr>\n",
       "  </thead>\n",
       "  <tbody>\n",
       "    <tr>\n",
       "      <th>6405</th>\n",
       "      <td>-0.411044</td>\n",
       "      <td>0.53352</td>\n",
       "      <td>-0.198558</td>\n",
       "      <td>-0.523654</td>\n",
       "      <td>0.936781</td>\n",
       "      <td>0.324239</td>\n",
       "      <td>0.150845</td>\n",
       "      <td>-0.661679</td>\n",
       "      <td>0.238833</td>\n",
       "      <td>-0.473681</td>\n",
       "      <td>-0.857414</td>\n",
       "      <td>-0.584539</td>\n",
       "      <td>-0.547788</td>\n",
       "      <td>0.077733</td>\n",
       "      <td>0.021247</td>\n",
       "    </tr>\n",
       "    <tr>\n",
       "      <th>937</th>\n",
       "      <td>-0.411044</td>\n",
       "      <td>0.53352</td>\n",
       "      <td>-0.035811</td>\n",
       "      <td>-0.325726</td>\n",
       "      <td>-0.911055</td>\n",
       "      <td>-0.557939</td>\n",
       "      <td>-0.575043</td>\n",
       "      <td>0.992638</td>\n",
       "      <td>-0.388003</td>\n",
       "      <td>-0.469532</td>\n",
       "      <td>-0.857414</td>\n",
       "      <td>-0.402524</td>\n",
       "      <td>0.442834</td>\n",
       "      <td>0.307104</td>\n",
       "      <td>0.021247</td>\n",
       "    </tr>\n",
       "    <tr>\n",
       "      <th>15201</th>\n",
       "      <td>-1.528232</td>\n",
       "      <td>-0.13602</td>\n",
       "      <td>-0.721673</td>\n",
       "      <td>-0.582984</td>\n",
       "      <td>-0.911055</td>\n",
       "      <td>-0.557939</td>\n",
       "      <td>-0.422224</td>\n",
       "      <td>-0.661679</td>\n",
       "      <td>-0.805893</td>\n",
       "      <td>-0.612028</td>\n",
       "      <td>-1.165353</td>\n",
       "      <td>-0.516487</td>\n",
       "      <td>-0.158479</td>\n",
       "      <td>0.511900</td>\n",
       "      <td>-1.023849</td>\n",
       "    </tr>\n",
       "    <tr>\n",
       "      <th>13083</th>\n",
       "      <td>-0.411044</td>\n",
       "      <td>0.19875</td>\n",
       "      <td>0.254808</td>\n",
       "      <td>2.123017</td>\n",
       "      <td>-0.911055</td>\n",
       "      <td>0.324239</td>\n",
       "      <td>-0.027443</td>\n",
       "      <td>0.573234</td>\n",
       "      <td>0.507477</td>\n",
       "      <td>3.617534</td>\n",
       "      <td>-0.652121</td>\n",
       "      <td>1.913366</td>\n",
       "      <td>-0.215914</td>\n",
       "      <td>0.716696</td>\n",
       "      <td>-0.152935</td>\n",
       "    </tr>\n",
       "    <tr>\n",
       "      <th>16852</th>\n",
       "      <td>-2.645420</td>\n",
       "      <td>-0.80556</td>\n",
       "      <td>-1.165739</td>\n",
       "      <td>-0.494803</td>\n",
       "      <td>-0.911055</td>\n",
       "      <td>-0.557939</td>\n",
       "      <td>-0.908696</td>\n",
       "      <td>-0.661679</td>\n",
       "      <td>-1.522277</td>\n",
       "      <td>-0.508884</td>\n",
       "      <td>-1.678584</td>\n",
       "      <td>-0.119721</td>\n",
       "      <td>0.183687</td>\n",
       "      <td>2.148629</td>\n",
       "      <td>-2.068945</td>\n",
       "    </tr>\n",
       "    <tr>\n",
       "      <th>...</th>\n",
       "      <td>...</td>\n",
       "      <td>...</td>\n",
       "      <td>...</td>\n",
       "      <td>...</td>\n",
       "      <td>...</td>\n",
       "      <td>...</td>\n",
       "      <td>...</td>\n",
       "      <td>...</td>\n",
       "      <td>...</td>\n",
       "      <td>...</td>\n",
       "      <td>...</td>\n",
       "      <td>...</td>\n",
       "      <td>...</td>\n",
       "      <td>...</td>\n",
       "      <td>...</td>\n",
       "    </tr>\n",
       "    <tr>\n",
       "      <th>11964</th>\n",
       "      <td>-0.411044</td>\n",
       "      <td>0.53352</td>\n",
       "      <td>0.208309</td>\n",
       "      <td>-0.398955</td>\n",
       "      <td>0.936781</td>\n",
       "      <td>-0.557939</td>\n",
       "      <td>0.596565</td>\n",
       "      <td>-0.661679</td>\n",
       "      <td>0.388080</td>\n",
       "      <td>-0.364483</td>\n",
       "      <td>-0.857414</td>\n",
       "      <td>-0.540373</td>\n",
       "      <td>-0.158479</td>\n",
       "      <td>0.651162</td>\n",
       "      <td>0.021247</td>\n",
       "    </tr>\n",
       "    <tr>\n",
       "      <th>21575</th>\n",
       "      <td>0.706145</td>\n",
       "      <td>0.86829</td>\n",
       "      <td>0.836046</td>\n",
       "      <td>-0.585668</td>\n",
       "      <td>0.936781</td>\n",
       "      <td>0.324239</td>\n",
       "      <td>1.284248</td>\n",
       "      <td>-0.661679</td>\n",
       "      <td>-0.238756</td>\n",
       "      <td>-0.414597</td>\n",
       "      <td>-0.465492</td>\n",
       "      <td>-0.797595</td>\n",
       "      <td>1.600769</td>\n",
       "      <td>0.401311</td>\n",
       "      <td>0.892161</td>\n",
       "    </tr>\n",
       "    <tr>\n",
       "      <th>5390</th>\n",
       "      <td>0.706145</td>\n",
       "      <td>-0.80556</td>\n",
       "      <td>-0.605425</td>\n",
       "      <td>-0.092239</td>\n",
       "      <td>-0.911055</td>\n",
       "      <td>-1.440118</td>\n",
       "      <td>-0.294876</td>\n",
       "      <td>-0.661679</td>\n",
       "      <td>-0.671571</td>\n",
       "      <td>-0.094067</td>\n",
       "      <td>1.400805</td>\n",
       "      <td>0.157036</td>\n",
       "      <td>-0.136657</td>\n",
       "      <td>-1.122371</td>\n",
       "      <td>0.021247</td>\n",
       "    </tr>\n",
       "    <tr>\n",
       "      <th>860</th>\n",
       "      <td>-2.645420</td>\n",
       "      <td>-1.80987</td>\n",
       "      <td>-1.942273</td>\n",
       "      <td>0.482854</td>\n",
       "      <td>-0.911055</td>\n",
       "      <td>-2.322296</td>\n",
       "      <td>-1.759386</td>\n",
       "      <td>-0.661679</td>\n",
       "      <td>-1.193935</td>\n",
       "      <td>0.634665</td>\n",
       "      <td>-0.652121</td>\n",
       "      <td>7.296212</td>\n",
       "      <td>-2.398105</td>\n",
       "      <td>-1.134659</td>\n",
       "      <td>-2.591493</td>\n",
       "    </tr>\n",
       "    <tr>\n",
       "      <th>15795</th>\n",
       "      <td>0.706145</td>\n",
       "      <td>0.53352</td>\n",
       "      <td>0.818609</td>\n",
       "      <td>0.158118</td>\n",
       "      <td>0.936781</td>\n",
       "      <td>0.324239</td>\n",
       "      <td>1.265146</td>\n",
       "      <td>-0.661679</td>\n",
       "      <td>1.268636</td>\n",
       "      <td>0.391493</td>\n",
       "      <td>-0.241536</td>\n",
       "      <td>-0.197352</td>\n",
       "      <td>-0.234932</td>\n",
       "      <td>0.382879</td>\n",
       "      <td>0.717978</td>\n",
       "    </tr>\n",
       "  </tbody>\n",
       "</table>\n",
       "<p>15658 rows × 15 columns</p>\n",
       "</div>"
      ],
      "text/plain": [
       "       bedrooms  bathrooms  sqft_living  sqft_lot    floors     grade  \\\n",
       "6405  -0.411044    0.53352    -0.198558 -0.523654  0.936781  0.324239   \n",
       "937   -0.411044    0.53352    -0.035811 -0.325726 -0.911055 -0.557939   \n",
       "15201 -1.528232   -0.13602    -0.721673 -0.582984 -0.911055 -0.557939   \n",
       "13083 -0.411044    0.19875     0.254808  2.123017 -0.911055  0.324239   \n",
       "16852 -2.645420   -0.80556    -1.165739 -0.494803 -0.911055 -0.557939   \n",
       "...         ...        ...          ...       ...       ...       ...   \n",
       "11964 -0.411044    0.53352     0.208309 -0.398955  0.936781 -0.557939   \n",
       "21575  0.706145    0.86829     0.836046 -0.585668  0.936781  0.324239   \n",
       "5390   0.706145   -0.80556    -0.605425 -0.092239 -0.911055 -1.440118   \n",
       "860   -2.645420   -1.80987    -1.942273  0.482854 -0.911055 -2.322296   \n",
       "15795  0.706145    0.53352     0.818609  0.158118  0.936781  0.324239   \n",
       "\n",
       "       sqft_above  sqft_basement  sqft_living15  sqft_lot15  \\\n",
       "6405     0.150845      -0.661679       0.238833   -0.473681   \n",
       "937     -0.575043       0.992638      -0.388003   -0.469532   \n",
       "15201   -0.422224      -0.661679      -0.805893   -0.612028   \n",
       "13083   -0.027443       0.573234       0.507477    3.617534   \n",
       "16852   -0.908696      -0.661679      -1.522277   -0.508884   \n",
       "...           ...            ...            ...         ...   \n",
       "11964    0.596565      -0.661679       0.388080   -0.364483   \n",
       "21575    1.284248      -0.661679      -0.238756   -0.414597   \n",
       "5390    -0.294876      -0.661679      -0.671571   -0.094067   \n",
       "860     -1.759386      -0.661679      -1.193935    0.634665   \n",
       "15795    1.265146      -0.661679       1.268636    0.391493   \n",
       "\n",
       "       bedrooms_bathrooms  sqft_lot_sqft_living  sqft_living_sqft_living15  \\\n",
       "6405            -0.857414             -0.584539                  -0.547788   \n",
       "937             -0.857414             -0.402524                   0.442834   \n",
       "15201           -1.165353             -0.516487                  -0.158479   \n",
       "13083           -0.652121              1.913366                  -0.215914   \n",
       "16852           -1.678584             -0.119721                   0.183687   \n",
       "...                   ...                   ...                        ...   \n",
       "11964           -0.857414             -0.540373                  -0.158479   \n",
       "21575           -0.465492             -0.797595                   1.600769   \n",
       "5390             1.400805              0.157036                  -0.136657   \n",
       "860             -0.652121              7.296212                  -2.398105   \n",
       "15795           -0.241536             -0.197352                  -0.234932   \n",
       "\n",
       "       sqft_living_bedrooms  total_rooms  \n",
       "6405               0.077733     0.021247  \n",
       "937                0.307104     0.021247  \n",
       "15201              0.511900    -1.023849  \n",
       "13083              0.716696    -0.152935  \n",
       "16852              2.148629    -2.068945  \n",
       "...                     ...          ...  \n",
       "11964              0.651162     0.021247  \n",
       "21575              0.401311     0.892161  \n",
       "5390              -1.122371     0.021247  \n",
       "860               -1.134659    -2.591493  \n",
       "15795              0.382879     0.717978  \n",
       "\n",
       "[15658 rows x 15 columns]"
      ]
     },
     "execution_count": 18,
     "metadata": {},
     "output_type": "execute_result"
    }
   ],
   "source": [
    "# Instantiate a new scaler\n",
    "scaler = StandardScaler()\n",
    "\n",
    "#scale numeric columns\n",
    "\n",
    "cols_to_scale = list(X_train.select_dtypes(include='number').columns)\n",
    "\n",
    "\n",
    "scaler.fit(X_train[cols_to_scale])\n",
    "\n",
    "train_scaled_columns = scaler.transform(X_train[cols_to_scale])\n",
    "test_scaled_columns = scaler.transform(X_test[cols_to_scale])\n",
    "\n",
    "X_train_df_num = pd.DataFrame(index=X_train.index, data=train_scaled_columns, columns=cols_to_scale)\n",
    "X_test_df_num = pd.DataFrame(index=X_test.index, data=test_scaled_columns, columns=cols_to_scale)\n",
    "\n",
    "X_train_df_num"
   ]
  },
  {
   "cell_type": "markdown",
   "metadata": {},
   "source": [
    "One Hot Encoding categorical variables:"
   ]
  },
  {
   "cell_type": "code",
   "execution_count": 19,
   "metadata": {},
   "outputs": [
    {
     "data": {
      "text/plain": [
       "['condition', 'grade_category', 'new_construction']"
      ]
     },
     "execution_count": 19,
     "metadata": {},
     "output_type": "execute_result"
    }
   ],
   "source": [
    "cols_to_encode"
   ]
  },
  {
   "cell_type": "code",
   "execution_count": 20,
   "metadata": {},
   "outputs": [],
   "source": [
    "#encode categorial columns\n",
    "ohe = OneHotEncoder(sparse=False)\n",
    "\n",
    "ohe.fit(X_train[cols_to_encode])\n",
    "\n",
    "train_encoded_columns = ohe.transform(X_train[cols_to_encode])\n",
    "test_encoded_columns = ohe.transform(X_test[cols_to_encode])\n",
    "\n",
    "ohe.get_feature_names\n",
    "\n",
    "X_train_df_cat = pd.DataFrame(data=train_encoded_columns, index=X_train.index, columns=ohe.get_feature_names())\n",
    "X_test_df_cat = pd.DataFrame(data=test_encoded_columns, index=X_test.index, columns=ohe.get_feature_names())"
   ]
  },
  {
   "cell_type": "code",
   "execution_count": 21,
   "metadata": {},
   "outputs": [],
   "source": [
    "X_train_variables = pd.concat([X_train_df_num, X_train_df_cat], axis=1)\n",
    "X_test_variables = pd.concat([X_test_df_num, X_test_df_cat], axis=1)"
   ]
  },
  {
   "cell_type": "code",
   "execution_count": 22,
   "metadata": {},
   "outputs": [
    {
     "name": "stdout",
     "output_type": "stream",
     "text": [
      "<class 'pandas.core.frame.DataFrame'>\n",
      "Int64Index: 15658 entries, 6405 to 15795\n",
      "Data columns (total 26 columns):\n",
      " #   Column                     Non-Null Count  Dtype  \n",
      "---  ------                     --------------  -----  \n",
      " 0   bedrooms                   15658 non-null  float64\n",
      " 1   bathrooms                  15658 non-null  float64\n",
      " 2   sqft_living                15658 non-null  float64\n",
      " 3   sqft_lot                   15658 non-null  float64\n",
      " 4   floors                     15658 non-null  float64\n",
      " 5   grade                      15658 non-null  float64\n",
      " 6   sqft_above                 15658 non-null  float64\n",
      " 7   sqft_basement              15658 non-null  float64\n",
      " 8   sqft_living15              15658 non-null  float64\n",
      " 9   sqft_lot15                 15658 non-null  float64\n",
      " 10  bedrooms_bathrooms         15658 non-null  float64\n",
      " 11  sqft_lot_sqft_living       15658 non-null  float64\n",
      " 12  sqft_living_sqft_living15  15658 non-null  float64\n",
      " 13  sqft_living_bedrooms       15658 non-null  float64\n",
      " 14  total_rooms                15658 non-null  float64\n",
      " 15  x0_Average                 15658 non-null  float64\n",
      " 16  x0_Fair                    15658 non-null  float64\n",
      " 17  x0_Good                    15658 non-null  float64\n",
      " 18  x0_Poor                    15658 non-null  float64\n",
      " 19  x0_Very Good               15658 non-null  float64\n",
      " 20  x1_high                    15658 non-null  float64\n",
      " 21  x1_low                     15658 non-null  float64\n",
      " 22  x1_medium                  15658 non-null  float64\n",
      " 23  x2_False                   15658 non-null  float64\n",
      " 24  x2_True                    15658 non-null  float64\n",
      " 25  price                      15658 non-null  float64\n",
      "dtypes: float64(26)\n",
      "memory usage: 3.2 MB\n"
     ]
    }
   ],
   "source": [
    "train_df_num = pd.concat([X_train_variables, y_train], axis=1)\n",
    "test_df_num = pd.concat([X_test_variables, y_test], axis=1)\n",
    "train_df_num.info()"
   ]
  },
  {
   "cell_type": "markdown",
   "metadata": {},
   "source": [
    "## Models with scaled data"
   ]
  },
  {
   "cell_type": "code",
   "execution_count": 23,
   "metadata": {},
   "outputs": [
    {
     "data": {
      "text/plain": [
       "Index(['bedrooms', 'bathrooms', 'sqft_living', 'sqft_lot', 'floors', 'grade',\n",
       "       'sqft_above', 'sqft_basement', 'sqft_living15', 'sqft_lot15',\n",
       "       'bedrooms_bathrooms', 'sqft_lot_sqft_living',\n",
       "       'sqft_living_sqft_living15', 'sqft_living_bedrooms', 'total_rooms',\n",
       "       'x0_Average', 'x0_Fair', 'x0_Good', 'x0_Poor', 'x0_Very Good',\n",
       "       'x1_high', 'x1_low', 'x1_medium', 'x2_False', 'x2_True', 'price'],\n",
       "      dtype='object')"
      ]
     },
     "execution_count": 23,
     "metadata": {},
     "output_type": "execute_result"
    }
   ],
   "source": [
    "train_df_num.columns"
   ]
  },
  {
   "cell_type": "markdown",
   "metadata": {},
   "source": [
    "Not all of the features above can be changed by a person. Below lists house features that someone can change about their home. "
   ]
  },
  {
   "cell_type": "code",
   "execution_count": 24,
   "metadata": {},
   "outputs": [],
   "source": [
    "house_features = ['bedrooms', 'bathrooms', 'sqft_living', 'floors', 'grade', 'bedrooms_bathrooms',\n",
    "                  'sqft_living_sqft_living15', 'sqft_living_bedrooms', 'total_rooms']"
   ]
  },
  {
   "cell_type": "code",
   "execution_count": 25,
   "metadata": {
    "scrolled": true
   },
   "outputs": [
    {
     "data": {
      "text/plain": [
       "<AxesSubplot:>"
      ]
     },
     "execution_count": 25,
     "metadata": {},
     "output_type": "execute_result"
    },
    {
     "data": {
      "image/png": "[encoded data removed]",
      "text/plain": [
       "<Figure size 432x288 with 2 Axes>"
      ]
     },
     "metadata": {
      "needs_background": "light"
     },
     "output_type": "display_data"
    }
   ],
   "source": [
    "#review multicollinearity of variables\n",
    "sns.heatmap(train_df_num[house_features].corr(), annot=True)"
   ]
  },
  {
   "cell_type": "code",
   "execution_count": 26,
   "metadata": {
    "scrolled": true
   },
   "outputs": [
    {
     "data": {
      "text/plain": [
       "<AxesSubplot:>"
      ]
     },
     "execution_count": 26,
     "metadata": {},
     "output_type": "execute_result"
    },
    {
     "data": {
      "image/png": "[encoded data removed]",
      "text/plain": [
       "<Figure size 432x288 with 2 Axes>"
      ]
     },
     "metadata": {
      "needs_background": "light"
     },
     "output_type": "display_data"
    }
   ],
   "source": [
    "heatmap = ['bedrooms', 'bathrooms', 'sqft_living', 'floors', 'grade', 'bedrooms_bathrooms',\n",
    "                  'sqft_living_sqft_living15', 'sqft_living_bedrooms', 'total_rooms','price']\n",
    "sns.heatmap(train_df_num[heatmap].corr(), annot=True)"
   ]
  },
  {
   "cell_type": "markdown",
   "metadata": {},
   "source": [
    "Simple models: "
   ]
  },
  {
   "cell_type": "code",
   "execution_count": 27,
   "metadata": {},
   "outputs": [
    {
     "name": "stdout",
     "output_type": "stream",
     "text": [
      "price ~ bedrooms\n",
      "0.11711055030539386\n",
      "*****\n",
      "price ~ bathrooms\n",
      "0.2797695083615864\n",
      "*****\n",
      "price ~ sqft_living\n",
      "0.4585647107379974\n",
      "*****\n",
      "price ~ floors\n",
      "0.0918280487374673\n",
      "*****\n",
      "price ~ grade\n",
      "0.47226919314068605\n",
      "*****\n",
      "price ~ bedrooms_bathrooms\n",
      "0.08612817660667083\n",
      "*****\n",
      "price ~ sqft_living_sqft_living15\n",
      "0.07889871434803797\n",
      "*****\n",
      "price ~ sqft_living_bedrooms\n",
      "0.3214884325562868\n",
      "*****\n",
      "price ~ total_rooms\n",
      "0.23875656420976032\n",
      "*****\n"
     ]
    }
   ],
   "source": [
    "for feature in house_features: \n",
    "    formula = 'price ~ ' + feature\n",
    "    \n",
    "    model = ols(formula=formula, data=train_df_num).fit() \n",
    "    print(formula)\n",
    "    print(model.rsquared)\n",
    "    print('*****')"
   ]
  },
  {
   "cell_type": "markdown",
   "metadata": {},
   "source": [
    "price ~ grade\n",
    "0.4722691931406864\n",
    "*****\n",
    "price ~ sqft_living\n",
    "0.4585647107379971\n",
    "*****\n",
    "price ~ sqft_living_bedrooms\n",
    "0.32513627380769616\n",
    "*****\n",
    "price ~ bathrooms\n",
    "0.27976950836158665\n",
    "*****\n",
    "price ~ sqft_living_bedrooms\n",
    "0.32513627380769616\n",
    "*****\n",
    "price ~ total_rooms\n",
    "0.23875656420976044"
   ]
  },
  {
   "cell_type": "markdown",
   "metadata": {},
   "source": [
    "#### Multiple variables "
   ]
  },
  {
   "cell_type": "code",
   "execution_count": 28,
   "metadata": {},
   "outputs": [],
   "source": [
    "def pro_model(features): \n",
    "    formula = 'price ~'+ \"+\".join(features)\n",
    "    model= ols(formula=formula, data=train_df_num).fit()\n",
    "    predicted_train_variable = model.predict(train_df_num)\n",
    "    predicted_test_variable = model.predict(test_df_num)\n",
    "    train_rmse = mean_squared_error(y_train, predicted_train_variable, squared=False)\n",
    "    test_rsme = mean_squared_error(y_test, predicted_test_variable, squared=False)\n",
    "    train_mean_absolute_error = mean_absolute_error(y_train, predicted_train_variable)\n",
    "    test_mean_absolute_error = mean_absolute_error(y_test, predicted_test_variable)\n",
    "    output = (f\"{model.params}, {model.rsquared}, train_rmse: ${train_rmse},\\\n",
    "    test_rsme: ${test_rsme}, train_mean_absolute_error: ${train_mean_absolute_error},\\\n",
    "            test_mean_absolute_error: ${test_mean_absolute_error}\")\n",
    "    print(output)"
   ]
  },
  {
   "cell_type": "code",
   "execution_count": 29,
   "metadata": {
    "scrolled": true
   },
   "outputs": [
    {
     "name": "stdout",
     "output_type": "stream",
     "text": [
      "Intercept      13.036710\n",
      "grade           0.213250\n",
      "sqft_living     0.198470\n",
      "bathrooms      -0.015086\n",
      "dtype: float64, 0.5321700486381533, train_rmse: $0.3508377456977947,    test_rsme: $0.3501026869863064, train_mean_absolute_error: $0.28307519233982426,            test_mean_absolute_error: $0.28293400327488505\n"
     ]
    }
   ],
   "source": [
    "# 'price ~ grade + sqft_living + bathrooms'\n",
    "pro_model(['grade', 'sqft_living', 'bathrooms'])"
   ]
  },
  {
   "cell_type": "code",
   "execution_count": 30,
   "metadata": {},
   "outputs": [
    {
     "name": "stdout",
     "output_type": "stream",
     "text": [
      "Intercept    13.036710\n",
      "grade         0.304721\n",
      "bathrooms     0.073660\n",
      "dtype: float64, 0.4842154846048212, train_rmse: $0.368380345061082,    test_rsme: $0.36954983918877743, train_mean_absolute_error: $0.29540983174694985,            test_mean_absolute_error: $0.29605681171050974\n"
     ]
    }
   ],
   "source": [
    "#evaluate\n",
    "pro_model(['grade', 'bathrooms'])"
   ]
  },
  {
   "cell_type": "code",
   "execution_count": 31,
   "metadata": {
    "scrolled": true
   },
   "outputs": [
    {
     "name": "stdout",
     "output_type": "stream",
     "text": [
      "Intercept      13.036710\n",
      "sqft_living     0.326887\n",
      "bathrooms       0.027422\n",
      "dtype: float64, 0.4598318298322627, train_rmse: $0.3769873653503311,    test_rsme: $0.3760790558096747, train_mean_absolute_error: $0.3069686251424549,            test_mean_absolute_error: $0.30613125051602635\n"
     ]
    }
   ],
   "source": [
    "pro_model(['sqft_living', 'bathrooms'])"
   ]
  },
  {
   "cell_type": "code",
   "execution_count": 32,
   "metadata": {},
   "outputs": [
    {
     "name": "stdout",
     "output_type": "stream",
     "text": [
      "Intercept      13.036710\n",
      "sqft_living     0.375591\n",
      "total_rooms    -0.036896\n",
      "dtype: float64, 0.4607065131074971, train_rmse: $0.3766820177224991,    test_rsme: $0.3764733249444073, train_mean_absolute_error: $0.30640595838373286,            test_mean_absolute_error: $0.30648968660741466\n"
     ]
    }
   ],
   "source": [
    "pro_model(['sqft_living', 'total_rooms'])"
   ]
  },
  {
   "cell_type": "code",
   "execution_count": 33,
   "metadata": {},
   "outputs": [
    {
     "name": "stdout",
     "output_type": "stream",
     "text": [
      "Intercept                    1.303671e+01\n",
      "bedrooms                     3.475984e+11\n",
      "bathrooms                    2.899998e+11\n",
      "sqft_living                  9.923952e-02\n",
      "floors                      -5.470062e-03\n",
      "grade                        2.004477e-01\n",
      "bedrooms_bathrooms           6.661759e-03\n",
      "sqft_living_sqft_living15   -2.727432e-02\n",
      "sqft_living_bedrooms         1.086255e-01\n",
      "total_rooms                 -5.573643e+11\n",
      "dtype: float64, 0.5313366696201449, train_rmse: $0.35115009286716803,    test_rsme: $0.35118985791252116, train_mean_absolute_error: $0.2829829907225244,            test_mean_absolute_error: $0.2839133387205637\n"
     ]
    }
   ],
   "source": [
    "#evaluate\n",
    "pro_model(house_features)"
   ]
  },
  {
   "cell_type": "code",
   "execution_count": 34,
   "metadata": {},
   "outputs": [
    {
     "name": "stdout",
     "output_type": "stream",
     "text": [
      "Intercept                    13.036710\n",
      "bathrooms                    -0.047638\n",
      "sqft_living                   0.099155\n",
      "floors                       -0.005590\n",
      "grade                         0.200418\n",
      "bedrooms_bathrooms            0.006582\n",
      "sqft_living_sqft_living15    -0.027294\n",
      "sqft_living_bedrooms          0.108663\n",
      "total_rooms                   0.094020\n",
      "dtype: float64, 0.5379610810340244, train_rmse: $0.3486595617750192,    test_rsme: $0.34925595910609136, train_mean_absolute_error: $0.28191288530364744,            test_mean_absolute_error: $0.2826523906327372\n"
     ]
    }
   ],
   "source": [
    "pro_model(house_features[1:])"
   ]
  },
  {
   "cell_type": "code",
   "execution_count": 35,
   "metadata": {
    "scrolled": true
   },
   "outputs": [
    {
     "name": "stdout",
     "output_type": "stream",
     "text": [
      "Intercept                    13.036710\n",
      "sqft_living                   0.111497\n",
      "floors                       -0.007637\n",
      "grade                         0.198992\n",
      "bedrooms_bathrooms            0.025024\n",
      "sqft_living_sqft_living15    -0.027008\n",
      "sqft_living_bedrooms          0.096992\n",
      "total_rooms                   0.052730\n",
      "dtype: float64, 0.5376295403941549, train_rmse: $0.34878463141779886,    test_rsme: $0.34905710219943126, train_mean_absolute_error: $0.2820904260731723,            test_mean_absolute_error: $0.28263932596006547\n"
     ]
    }
   ],
   "source": [
    "pro_model(house_features[2:])"
   ]
  },
  {
   "cell_type": "code",
   "execution_count": 36,
   "metadata": {},
   "outputs": [
    {
     "name": "stdout",
     "output_type": "stream",
     "text": [
      "Intercept                    13.036710\n",
      "floors                       -0.011153\n",
      "grade                         0.209475\n",
      "bedrooms_bathrooms            0.047915\n",
      "sqft_living_sqft_living15    -0.024756\n",
      "sqft_living_bedrooms          0.169776\n",
      "total_rooms                   0.120326\n",
      "dtype: float64, 0.5353844315881402, train_rmse: $0.34963039390809103,    test_rsme: $0.3520725293455885, train_mean_absolute_error: $0.2821261243551386,            test_mean_absolute_error: $0.2834200254853778\n"
     ]
    }
   ],
   "source": [
    "pro_model(house_features[3:])"
   ]
  },
  {
   "cell_type": "code",
   "execution_count": 37,
   "metadata": {
    "scrolled": false
   },
   "outputs": [
    {
     "name": "stdout",
     "output_type": "stream",
     "text": [
      "Intercept      13.036710\n",
      "total_rooms     0.077104\n",
      "grade           0.309230\n",
      "dtype: float64, 0.48774959342922974, train_rmse: $0.3671161213579254,    test_rsme: $0.3682891220624057, train_mean_absolute_error: $0.29359374206493016,            test_mean_absolute_error: $0.29490767650513683\n"
     ]
    }
   ],
   "source": [
    "pro_model(['total_rooms', 'grade'])"
   ]
  },
  {
   "cell_type": "code",
   "execution_count": 38,
   "metadata": {},
   "outputs": [
    {
     "data": {
      "text/plain": [
       "Index(['bedrooms', 'bathrooms', 'sqft_living', 'sqft_lot', 'floors',\n",
       "       'condition', 'grade', 'sqft_above', 'sqft_basement', 'sqft_living15',\n",
       "       'sqft_lot15', 'bedrooms_bathrooms', 'sqft_lot_sqft_living',\n",
       "       'sqft_living_sqft_living15', 'sqft_living_bedrooms', 'grade_category',\n",
       "       'new_construction', 'total_rooms'],\n",
       "      dtype='object')"
      ]
     },
     "execution_count": 38,
     "metadata": {},
     "output_type": "execute_result"
    }
   ],
   "source": [
    "X_train.columns"
   ]
  },
  {
   "cell_type": "code",
   "execution_count": 39,
   "metadata": {
    "scrolled": true
   },
   "outputs": [
    {
     "name": "stdout",
     "output_type": "stream",
     "text": [
      "Intercept               13.036710\n",
      "sqft_lot_sqft_living    -0.051053\n",
      "floors                   0.140321\n",
      "dtype: float64, 0.10086615535637966, train_rmse: $0.4863786166048168,    test_rsme: $0.5917445371693931, train_mean_absolute_error: $0.3901164815739711,            test_mean_absolute_error: $0.4151513071391013\n"
     ]
    }
   ],
   "source": [
    "pro_model(['sqft_lot_sqft_living','floors'])"
   ]
  },
  {
   "cell_type": "code",
   "execution_count": 40,
   "metadata": {
    "scrolled": true
   },
   "outputs": [
    {
     "name": "stdout",
     "output_type": "stream",
     "text": [
      "Intercept    13.036710\n",
      "floors        0.162654\n",
      "sqft_lot      0.087499\n",
      "dtype: float64, 0.1207293219026303, train_rmse: $0.48097620982076,    test_rsme: $0.5873230917787017, train_mean_absolute_error: $0.3864331722949072,            test_mean_absolute_error: $0.41877500729753003\n"
     ]
    }
   ],
   "source": [
    "pro_model(['floors', 'sqft_lot'])"
   ]
  },
  {
   "cell_type": "code",
   "execution_count": 41,
   "metadata": {
    "scrolled": true
   },
   "outputs": [
    {
     "name": "stdout",
     "output_type": "stream",
     "text": [
      "Intercept               13.036710\n",
      "sqft_living              0.292622\n",
      "sqft_living_bedrooms     0.073775\n",
      "dtype: float64, 0.4678691458559795, train_rmse: $0.37417220302322063,    test_rsme: $0.3737461147776073, train_mean_absolute_error: $0.3041824678184983,            test_mean_absolute_error: $0.3035726126395785\n"
     ]
    }
   ],
   "source": [
    "pro_model(['sqft_living', 'sqft_living_bedrooms'])"
   ]
  },
  {
   "cell_type": "code",
   "execution_count": 42,
   "metadata": {
    "scrolled": true
   },
   "outputs": [
    {
     "name": "stdout",
     "output_type": "stream",
     "text": [
      "Intercept               13.036710\n",
      "bedrooms                 0.157103\n",
      "bathrooms                0.053483\n",
      "sqft_living_bedrooms     0.269569\n",
      "dtype: float64, 0.4579465842034556, train_rmse: $0.37764465578741524,    test_rsme: $0.38157342481118106, train_mean_absolute_error: $0.3066898936530476,            test_mean_absolute_error: $0.3061297012050377\n"
     ]
    }
   ],
   "source": [
    "pro_model(['bedrooms', 'bathrooms', 'sqft_living_bedrooms'])"
   ]
  },
  {
   "cell_type": "code",
   "execution_count": 43,
   "metadata": {
    "scrolled": true
   },
   "outputs": [
    {
     "name": "stdout",
     "output_type": "stream",
     "text": [
      "Intercept               13.036710\n",
      "bedrooms_bathrooms       0.014064\n",
      "sqft_living_bedrooms     0.298587\n",
      "dtype: float64, 0.32201175472069865, train_rmse: $0.4223508597447233,    test_rsme: $0.42239098044734685, train_mean_absolute_error: $0.3365615999259184,            test_mean_absolute_error: $0.33586628417720105\n"
     ]
    }
   ],
   "source": [
    "pro_model(['bedrooms_bathrooms', 'sqft_living_bedrooms'])"
   ]
  },
  {
   "cell_type": "code",
   "execution_count": 44,
   "metadata": {
    "scrolled": true
   },
   "outputs": [
    {
     "name": "stdout",
     "output_type": "stream",
     "text": [
      "Intercept               13.036710\n",
      "total_rooms              0.192064\n",
      "sqft_living_bedrooms     0.244900\n",
      "dtype: float64, 0.45367581224416653, train_rmse: $0.3791294447241045,    test_rsme: $0.38091771305332156, train_mean_absolute_error: $0.30770138605803027,            test_mean_absolute_error: $0.3065024605347307\n"
     ]
    }
   ],
   "source": [
    "pro_model(['total_rooms', 'sqft_living_bedrooms'])"
   ]
  },
  {
   "cell_type": "code",
   "execution_count": 45,
   "metadata": {},
   "outputs": [
    {
     "name": "stdout",
     "output_type": "stream",
     "text": [
      "Intercept               1.303671e+01\n",
      "total_rooms             3.459686e+11\n",
      "sqft_living_bedrooms    2.695098e-01\n",
      "bedrooms               -2.157622e+11\n",
      "bathrooms              -1.800094e+11\n",
      "dtype: float64, 0.45767806244944853, train_rmse: $0.3777381827784345,    test_rsme: $0.38222949049795224, train_mean_absolute_error: $0.30688187272988365,            test_mean_absolute_error: $0.30641244518004995\n"
     ]
    }
   ],
   "source": [
    "pro_model(['total_rooms', 'sqft_living_bedrooms','bedrooms', 'bathrooms'])"
   ]
  },
  {
   "cell_type": "code",
   "execution_count": 46,
   "metadata": {
    "scrolled": true
   },
   "outputs": [
    {
     "name": "stdout",
     "output_type": "stream",
     "text": [
      "Intercept     13.036710\n",
      "sqft_above     0.206671\n",
      "bathrooms      0.132245\n",
      "dtype: float64, 0.36861122318453177, train_rmse: $0.4075779957642661,    test_rsme: $0.40733833694114385, train_mean_absolute_error: $0.3293649514585444,            test_mean_absolute_error: $0.3287918146116361\n"
     ]
    }
   ],
   "source": [
    "pro_model(['sqft_above', 'bathrooms'])"
   ]
  },
  {
   "cell_type": "code",
   "execution_count": 47,
   "metadata": {
    "scrolled": true
   },
   "outputs": [
    {
     "name": "stdout",
     "output_type": "stream",
     "text": [
      "Intercept               13.036710\n",
      "floors                  -0.007805\n",
      "grade                    0.283779\n",
      "sqft_living_bedrooms     0.115563\n",
      "dtype: float64, 0.5033329869246044, train_rmse: $0.3614888937487403,    test_rsme: $0.36159478943091855, train_mean_absolute_error: $0.2893418302902427,            test_mean_absolute_error: $0.2905125268593163\n"
     ]
    }
   ],
   "source": [
    "pro_model(['floors', 'grade', 'sqft_living_bedrooms'])"
   ]
  },
  {
   "cell_type": "code",
   "execution_count": 48,
   "metadata": {},
   "outputs": [
    {
     "name": "stdout",
     "output_type": "stream",
     "text": [
      "Intercept               13.036710\n",
      "floors                  -0.024965\n",
      "grade                    0.255845\n",
      "sqft_living_bedrooms     0.105287\n",
      "bathrooms                0.065087\n",
      "dtype: float64, 0.5115287519015911, train_rmse: $0.3584939272921065,    test_rsme: $0.35903228121135566, train_mean_absolute_error: $0.2872426432460643,            test_mean_absolute_error: $0.2882326924298467\n"
     ]
    }
   ],
   "source": [
    "##evaluate\n",
    "pro_model(['floors', 'grade', 'sqft_living_bedrooms', 'bathrooms'])"
   ]
  },
  {
   "cell_type": "code",
   "execution_count": 49,
   "metadata": {
    "scrolled": true
   },
   "outputs": [
    {
     "name": "stdout",
     "output_type": "stream",
     "text": [
      "Intercept               13.036710\n",
      "floors                  -0.007790\n",
      "grade                    0.208064\n",
      "sqft_living_bedrooms     0.041989\n",
      "bathrooms               -0.004935\n",
      "sqft_living              0.166377\n",
      "dtype: float64, 0.5351331259469092, train_rmse: $0.34972493681445366,    test_rsme: $0.349315208848271, train_mean_absolute_error: $0.28225225598958387,            test_mean_absolute_error: $0.282113651646127\n"
     ]
    }
   ],
   "source": [
    "pro_model(['floors', 'grade', 'sqft_living_bedrooms', 'bathrooms', 'sqft_living'])"
   ]
  },
  {
   "cell_type": "code",
   "execution_count": 50,
   "metadata": {
    "scrolled": false
   },
   "outputs": [
    {
     "name": "stdout",
     "output_type": "stream",
     "text": [
      "Intercept      13.036710\n",
      "grade           0.210193\n",
      "sqft_living     0.189510\n",
      "dtype: float64, 0.5318020274526694, train_rmse: $0.3509757128590251,    test_rsme: $0.3503099497120097, train_mean_absolute_error: $0.28318692276475693,            test_mean_absolute_error: $0.28298327400398\n"
     ]
    }
   ],
   "source": [
    "pro_model(['grade', 'sqft_living'])"
   ]
  },
  {
   "cell_type": "code",
   "execution_count": 51,
   "metadata": {},
   "outputs": [
    {
     "name": "stdout",
     "output_type": "stream",
     "text": [
      "Intercept      13.036710\n",
      "grade           0.213250\n",
      "sqft_living     0.198470\n",
      "bathrooms      -0.015086\n",
      "dtype: float64, 0.5321700486381533, train_rmse: $0.3508377456977947,    test_rsme: $0.3501026869863064, train_mean_absolute_error: $0.28307519233982426,            test_mean_absolute_error: $0.28293400327488505\n"
     ]
    }
   ],
   "source": [
    "pro_model(['grade', 'sqft_living', 'bathrooms'])"
   ]
  },
  {
   "cell_type": "code",
   "execution_count": 52,
   "metadata": {
    "scrolled": false
   },
   "outputs": [
    {
     "name": "stdout",
     "output_type": "stream",
     "text": [
      "Intercept    13.036710\n",
      "grade         0.304721\n",
      "bathrooms     0.073660\n",
      "dtype: float64, 0.4842154846048212, train_rmse: $0.368380345061082,    test_rsme: $0.36954983918877743, train_mean_absolute_error: $0.29540983174694985,            test_mean_absolute_error: $0.29605681171050974\n"
     ]
    }
   ],
   "source": [
    "pro_model(['grade', 'bathrooms'])"
   ]
  },
  {
   "cell_type": "code",
   "execution_count": 53,
   "metadata": {
    "scrolled": false
   },
   "outputs": [
    {
     "data": {
      "text/plain": [
       "Index(['x0_Average', 'x0_Fair', 'x0_Good', 'x0_Poor', 'x0_Very Good',\n",
       "       'x1_high', 'x1_low', 'x1_medium', 'x2_False', 'x2_True'],\n",
       "      dtype='object')"
      ]
     },
     "execution_count": 53,
     "metadata": {},
     "output_type": "execute_result"
    }
   ],
   "source": [
    "# from itertools import combinations\n",
    "# for var in combinations(encoded_var, 2)\n",
    "\n",
    "train_df_num.columns[15 :25]"
   ]
  },
  {
   "cell_type": "code",
   "execution_count": 54,
   "metadata": {
    "scrolled": true
   },
   "outputs": [
    {
     "name": "stdout",
     "output_type": "stream",
     "text": [
      "Intercept     13.027566\n",
      "x0_Average     0.014073\n",
      "dtype: float64, 0.000171326188517118, train_rmse: $0.5128910188064998,    test_rsme: $0.5238410333022716, train_mean_absolute_error: $0.40722541307173166,            test_mean_absolute_error: $0.4119807957896195\n"
     ]
    }
   ],
   "source": [
    "pro_model(['x0_Average'])"
   ]
  },
  {
   "cell_type": "code",
   "execution_count": 55,
   "metadata": {
    "scrolled": true
   },
   "outputs": [
    {
     "name": "stdout",
     "output_type": "stream",
     "text": [
      "Intercept    12.974737\n",
      "x1_high       0.903502\n",
      "dtype: float64, 0.19821757901822312, train_rmse: $0.45929378158022965,    test_rsme: $0.4594935137257102, train_mean_absolute_error: $0.36779265475508827,            test_mean_absolute_error: $0.3680004481841261\n"
     ]
    }
   ],
   "source": [
    "pro_model(['x1_high'])"
   ]
  },
  {
   "cell_type": "code",
   "execution_count": 56,
   "metadata": {},
   "outputs": [
    {
     "name": "stdout",
     "output_type": "stream",
     "text": [
      "Intercept    13.049627\n",
      "x0_Good      -0.049320\n",
      "dtype: float64, 0.0017872475668450072, train_rmse: $0.5124763844158703,    test_rsme: $0.5236152748706092, train_mean_absolute_error: $0.4070819932751066,            test_mean_absolute_error: $0.41178543414488056\n"
     ]
    }
   ],
   "source": [
    "pro_model(['x0_Good'])"
   ]
  },
  {
   "cell_type": "code",
   "execution_count": 57,
   "metadata": {},
   "outputs": [
    {
     "name": "stdout",
     "output_type": "stream",
     "text": [
      "Intercept    13.047838\n",
      "x1_medium    -0.013484\n",
      "dtype: float64, 9.96533762934737e-05, train_rmse: $0.5129094017974442,    test_rsme: $0.5238174826637325, train_mean_absolute_error: $0.40736770913800685,            test_mean_absolute_error: $0.41223328895768857\n"
     ]
    }
   ],
   "source": [
    "pro_model(['x1_medium'])"
   ]
  },
  {
   "cell_type": "code",
   "execution_count": 58,
   "metadata": {
    "scrolled": false
   },
   "outputs": [
    {
     "name": "stdout",
     "output_type": "stream",
     "text": [
      "Intercept     13.037678\n",
      "x0_Average     0.003962\n",
      "x0_Fair       -0.486521\n",
      "dtype: float64, 0.00658526792601688, train_rmse: $0.5112432635441286,    test_rsme: $0.521691046472244, train_mean_absolute_error: $0.40600018936188065,            test_mean_absolute_error: $0.41051157189265153\n"
     ]
    }
   ],
   "source": [
    "pro_model(['x0_Average', 'x0_Fair'])"
   ]
  },
  {
   "cell_type": "code",
   "execution_count": 59,
   "metadata": {
    "scrolled": true
   },
   "outputs": [
    {
     "name": "stdout",
     "output_type": "stream",
     "text": [
      "Intercept     13.108339\n",
      "x0_Average    -0.066700\n",
      "x0_Good       -0.108032\n",
      "dtype: float64, 0.0031028515052918815, train_rmse: $0.5121385615209575,    test_rsme: $0.5240522060597741, train_mean_absolute_error: $0.40658591620940265,            test_mean_absolute_error: $0.4117417073719485\n"
     ]
    }
   ],
   "source": [
    "pro_model(['x0_Average', 'x0_Good'])"
   ]
  },
  {
   "cell_type": "code",
   "execution_count": 60,
   "metadata": {
    "scrolled": true
   },
   "outputs": [
    {
     "name": "stdout",
     "output_type": "stream",
     "text": [
      "Intercept     13.029321\n",
      "x0_Average     0.012318\n",
      "x0_Poor       -0.601731\n",
      "dtype: float64, 0.0015734787923886717, train_rmse: $0.5125312552757361,    test_rsme: $0.5237169613134169, train_mean_absolute_error: $0.40711237781666165,            test_mean_absolute_error: $0.41188584424141994\n"
     ]
    }
   ],
   "source": [
    "pro_model(['x0_Average','x0_Poor'])"
   ]
  },
  {
   "cell_type": "code",
   "execution_count": 61,
   "metadata": {
    "scrolled": true
   },
   "outputs": [
    {
     "name": "stdout",
     "output_type": "stream",
     "text": [
      "Intercept     12.994098\n",
      "x0_Average    -0.030357\n",
      "x1_high        0.908789\n",
      "dtype: float64, 0.19900794174168313, train_rmse: $0.459067349709005,    test_rsme: $0.45930014312574396, train_mean_absolute_error: $0.367526392821003,            test_mean_absolute_error: $0.36784244684906886\n"
     ]
    }
   ],
   "source": [
    "pro_model(['x0_Average', 'x1_high'])"
   ]
  },
  {
   "cell_type": "code",
   "execution_count": 62,
   "metadata": {},
   "outputs": [
    {
     "name": "stdout",
     "output_type": "stream",
     "text": [
      "Intercept     13.227415\n",
      "x0_Average    -0.005722\n",
      "x2_False      -0.199922\n",
      "dtype: float64, 0.009024637210718778, train_rmse: $0.5106151886837916,    test_rsme: $0.5207799880786498, train_mean_absolute_error: $0.40518337209840793,            test_mean_absolute_error: $0.40984090553722224\n"
     ]
    }
   ],
   "source": [
    "pro_model(['x0_Average', 'x2_False'])"
   ]
  },
  {
   "cell_type": "code",
   "execution_count": 63,
   "metadata": {
    "scrolled": true
   },
   "outputs": [
    {
     "name": "stdout",
     "output_type": "stream",
     "text": [
      "Intercept   -1.321803e+11\n",
      "x2_False     1.321803e+11\n",
      "x2_True      1.321803e+11\n",
      "dtype: float64, 0.0070082654945266, train_rmse: $0.5111344078589303,    test_rsme: $0.5216499867817006, train_mean_absolute_error: $0.4048588531947875,            test_mean_absolute_error: $0.40966903829607737\n"
     ]
    }
   ],
   "source": [
    "pro_model(['x2_False', 'x2_True'])"
   ]
  },
  {
   "cell_type": "code",
   "execution_count": 64,
   "metadata": {
    "scrolled": true
   },
   "outputs": [
    {
     "name": "stdout",
     "output_type": "stream",
     "text": [
      "Intercept    12.977337\n",
      "x1_high       0.902224\n",
      "x0_Good      -0.009590\n",
      "dtype: float64, 0.19828475356670405, train_rmse: $0.45927454101206416,    test_rsme: $0.45954493025899396, train_mean_absolute_error: $0.3678151816753631,            test_mean_absolute_error: $0.3680351683663874\n"
     ]
    }
   ],
   "source": [
    "pro_model(['x1_high' , 'x0_Good'])"
   ]
  },
  {
   "cell_type": "code",
   "execution_count": 65,
   "metadata": {
    "scrolled": true
   },
   "outputs": [
    {
     "name": "stdout",
     "output_type": "stream",
     "text": [
      "Intercept      13.019669\n",
      "sqft_living     0.314262\n",
      "x1_high         0.248436\n",
      "dtype: float64, 0.4693915161994838, train_rmse: $0.3736365860255023,    test_rsme: $0.37212028701846506, train_mean_absolute_error: $0.3043363730852827,            test_mean_absolute_error: $0.30371961443024886\n"
     ]
    }
   ],
   "source": [
    "pro_model(['sqft_living', 'x1_high'])"
   ]
  },
  {
   "cell_type": "code",
   "execution_count": 66,
   "metadata": {
    "scrolled": false
   },
   "outputs": [
    {
     "name": "stdout",
     "output_type": "stream",
     "text": [
      "Intercept      13.034851\n",
      "sqft_living     0.346498\n",
      "x2_True         0.028728\n",
      "dtype: float64, 0.4587517806460144, train_rmse: $0.37736406430681557,    test_rsme: $0.3764049044229797, train_mean_absolute_error: $0.3073501042533582,            test_mean_absolute_error: $0.30677676092352846\n"
     ]
    }
   ],
   "source": [
    "pro_model(['sqft_living', 'x2_True'])"
   ]
  },
  {
   "cell_type": "code",
   "execution_count": 67,
   "metadata": {},
   "outputs": [
    {
     "name": "stdout",
     "output_type": "stream",
     "text": [
      "Intercept      13.063579\n",
      "sqft_living     0.346498\n",
      "x2_False       -0.028728\n",
      "dtype: float64, 0.4587517806460144, train_rmse: $0.37736406430681557,    test_rsme: $0.3764049044229795, train_mean_absolute_error: $0.30735010425335957,            test_mean_absolute_error: $0.30677676092352985\n"
     ]
    }
   ],
   "source": [
    "pro_model(['sqft_living', 'x2_False'])"
   ]
  },
  {
   "cell_type": "code",
   "execution_count": 68,
   "metadata": {
    "scrolled": true
   },
   "outputs": [
    {
     "name": "stdout",
     "output_type": "stream",
     "text": [
      "Intercept    13.038160\n",
      "grade         0.353344\n",
      "x2_True      -0.022413\n",
      "dtype: float64, 0.4723820137882938, train_rmse: $0.3725821945589107,    test_rsme: $0.3732279176299365, train_mean_absolute_error: $0.2978360912018579,            test_mean_absolute_error: $0.2989321015229383\n"
     ]
    }
   ],
   "source": [
    "pro_model(['grade', 'x2_True'])"
   ]
  },
  {
   "cell_type": "code",
   "execution_count": 69,
   "metadata": {
    "scrolled": false
   },
   "outputs": [
    {
     "name": "stdout",
     "output_type": "stream",
     "text": [
      "Intercept    13.015746\n",
      "grade         0.353344\n",
      "x2_False      0.022413\n",
      "dtype: float64, 0.47238201378829414, train_rmse: $0.3725821945589107,    test_rsme: $0.37322791762993657, train_mean_absolute_error: $0.29783609120185806,            test_mean_absolute_error: $0.2989321015229384\n"
     ]
    }
   ],
   "source": [
    "pro_model(['grade', 'x2_False'])"
   ]
  },
  {
   "cell_type": "code",
   "execution_count": 70,
   "metadata": {
    "scrolled": true
   },
   "outputs": [
    {
     "name": "stdout",
     "output_type": "stream",
     "text": [
      "Intercept    13.035777\n",
      "grade         0.350293\n",
      "x1_high       0.013590\n",
      "dtype: float64, 0.4722955466495322, train_rmse: $0.37261272308272525,    test_rsme: $0.3731091171384584, train_mean_absolute_error: $0.29797207794150593,            test_mean_absolute_error: $0.2990093414691755\n"
     ]
    }
   ],
   "source": [
    "pro_model(['grade', 'x1_high'])"
   ]
  },
  {
   "cell_type": "code",
   "execution_count": 71,
   "metadata": {
    "scrolled": false
   },
   "outputs": [
    {
     "name": "stdout",
     "output_type": "stream",
     "text": [
      "Intercept    13.036052\n",
      "floors       -0.007241\n",
      "grade         0.354258\n",
      "x1_high       0.009582\n",
      "dtype: float64, 0.4724507772701091, train_rmse: $0.3725579147916949,    test_rsme: $0.3730784575762059, train_mean_absolute_error: $0.29770776380672,            test_mean_absolute_error: $0.29879752552847666\n"
     ]
    }
   ],
   "source": [
    "pro_model(['floors', 'grade', 'x1_high'])"
   ]
  },
  {
   "cell_type": "code",
   "execution_count": 72,
   "metadata": {
    "scrolled": false
   },
   "outputs": [
    {
     "name": "stdout",
     "output_type": "stream",
     "text": [
      "Intercept    12.965943\n",
      "floors        0.118671\n",
      "x1_high       0.811770\n",
      "x0_Good       0.057601\n",
      "dtype: float64, 0.24611382589907382, train_rmse: $0.44536408291717583,    test_rsme: $0.4451658587705437, train_mean_absolute_error: $0.3593805098230926,            test_mean_absolute_error: $0.357472518941435\n"
     ]
    }
   ],
   "source": [
    "pro_model(['floors', 'x1_high' , 'x0_Good'])"
   ]
  },
  {
   "cell_type": "code",
   "execution_count": null,
   "metadata": {},
   "outputs": [],
   "source": []
  }
 ],
 "metadata": {
  "kernelspec": {
   "display_name": "Python 3",
   "language": "python",
   "name": "python3"
  },
  "language_info": {
   "codemirror_mode": {
    "name": "ipython",
    "version": 3
   },
   "file_extension": ".py",
   "mimetype": "text/x-python",
   "name": "python",
   "nbconvert_exporter": "python",
   "pygments_lexer": "ipython3",
   "version": "3.8.5"
  }
 },
 "nbformat": 4,
 "nbformat_minor": 4
}
