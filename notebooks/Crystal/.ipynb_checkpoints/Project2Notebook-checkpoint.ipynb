{
 "cells": [
  {
   "cell_type": "markdown",
   "metadata": {},
   "source": [
    "# Sale Price of King County Homes"
   ]
  },
  {
   "cell_type": "code",
   "execution_count": 1,
   "metadata": {},
   "outputs": [],
   "source": [
    "import numpy as np\n",
    "import pandas as pd\n",
    "\n",
    "import matplotlib.pyplot as plt\n",
    "import seaborn as sns\n",
    "\n",
    "from statsmodels.formula.api import ols\n",
    "import statsmodels.api as sm\n",
    "from sklearn.model_selection import train_test_split\n",
    "from sklearn.preprocessing import OneHotEncoder\n",
    "from sklearn.preprocessing import StandardScaler\n",
    "from sklearn.linear_model import LinearRegression\n",
    "from sklearn.metrics import r2_score, mean_squared_error, mean_absolute_error"
   ]
  },
  {
   "cell_type": "markdown",
   "metadata": {},
   "source": [
    "# Overview\n",
    "\n",
    "The purpose of this project is to predict the sale home prices of homes in King County, Washington using multiple linear regression. The data contains home sold between 2014 and 2015 and features of the sold homes. These features include sale price, number of bedrooms, bathrooms, square footage of home, location of home, condition and building grade of the home. Given these features we aim to develop a model that will precit the sales prices of homes. \n",
    "\n",
    "\n",
    "## A model for *sellers*\n",
    "\n",
    "Before selling a house a home seller can make changes to their home to increase the sale price. Realestate agents, homeowners, or house flippers can use this model in order to determine the features that would be most impactful in a reonvation.  This model serves to advise home sellers on what to prioritize prior to a sale and how it would effect the sale price.\n",
    "\n",
    "Many factors that predict home sales are out of a seller's control, such as location. This model includes only factors that remain wihtin the seller's control. "
   ]
  },
  {
   "cell_type": "markdown",
   "metadata": {},
   "source": [
    "## Data\n",
    "\n",
    "Import data from King County home sales: "
   ]
  },
  {
   "cell_type": "code",
   "execution_count": 2,
   "metadata": {},
   "outputs": [],
   "source": [
    "data = pd.read_csv('../../data/kc_house_data.csv')"
   ]
  },
  {
   "cell_type": "code",
   "execution_count": 3,
   "metadata": {},
   "outputs": [
    {
     "data": {
      "text/plain": [
       "(21597, 21)"
      ]
     },
     "execution_count": 3,
     "metadata": {},
     "output_type": "execute_result"
    }
   ],
   "source": [
    "data.shape"
   ]
  },
  {
   "cell_type": "code",
   "execution_count": 4,
   "metadata": {
    "scrolled": true
   },
   "outputs": [
    {
     "data": {
      "text/plain": [
       "Index(['id', 'date', 'price', 'bedrooms', 'bathrooms', 'sqft_living',\n",
       "       'sqft_lot', 'floors', 'waterfront', 'view', 'condition', 'grade',\n",
       "       'sqft_above', 'sqft_basement', 'yr_built', 'yr_renovated', 'zipcode',\n",
       "       'lat', 'long', 'sqft_living15', 'sqft_lot15'],\n",
       "      dtype='object')"
      ]
     },
     "execution_count": 4,
     "metadata": {},
     "output_type": "execute_result"
    }
   ],
   "source": [
    "data.columns"
   ]
  },
  {
   "cell_type": "markdown",
   "metadata": {},
   "source": [
    "The columns mean: \n",
    "* `id` - Unique identifier for a house\n",
    "* `date` - Date house was sold\n",
    "* `price` - Sale price (prediction target)\n",
    "* `bedrooms` - Number of bedrooms\n",
    "* `bathrooms` - Number of bathrooms\n",
    "* `sqft_living` - Square footage of living space in the home\n",
    "* `sqft_lot` - Square footage of the lot\n",
    "* `floors` - Number of floors (levels) in house\n",
    "* `waterfront` - Whether the house is on a waterfront\n",
    "  * Includes Duwamish, Elliott Bay, Puget Sound, Lake Union, Ship Canal, Lake Washington, Lake Sammamish, other lake, and river/slough waterfronts\n",
    "* `view` - Quality of view from house\n",
    "  * Includes views of Mt. Rainier, Olympics, Cascades, Territorial, Seattle Skyline, Puget Sound, Lake Washington, Lake Sammamish, small lake / river / creek, and other\n",
    "* `condition` - How good the overall condition of the house is. Related to maintenance of house.\n",
    "    * 1 = Poor\n",
    "    * 2 = Fair\n",
    "    * 3 = Average\n",
    "    * 4 = Good\n",
    "    * 5= Very Good\n",
    "* `grade` - Overall grade of the house. Related to the construction and design of the house.\n",
    "    * Represents the construction quality of improvements. \n",
    "    * Grades run from grade 1 to 13. From inferior structure,  to commonly seen, to better architectural design and quality.\n",
    "* `sqft_above` - Square footage of house apart from basement\n",
    "* `sqft_basement` - Square footage of the basement\n",
    "* `yr_built` - Year when house was built\n",
    "* `yr_renovated` - Year when house was renovated\n",
    "* `zipcode` - ZIP Code used by the United States Postal Service\n",
    "* `lat` - Latitude coordinate\n",
    "* `long` - Longitude coordinate\n",
    "* `sqft_living15` - The square footage of interior housing living space for the nearest 15 neighbors\n",
    "* `sqft_lot15` - The square footage of the land lots of the nearest 15 neighbors"
   ]
  },
  {
   "cell_type": "markdown",
   "metadata": {},
   "source": [
    "Given this data set, the **target variable** for our analysis is `price`."
   ]
  },
  {
   "cell_type": "markdown",
   "metadata": {},
   "source": [
    "#### Selecting appropriate variables for the model: \n",
    "This model will aim to identify what features of a home that will incrase the resell value, and by what amount. \n",
    "\n",
    "Therefore, we will keep variables that are associated with selling a home, and drop variables that homeowners cannot change (for example, location based data such as waterfront property)."
   ]
  },
  {
   "cell_type": "code",
   "execution_count": 5,
   "metadata": {},
   "outputs": [],
   "source": [
    "home_features = ['price', 'bedrooms', 'bathrooms', 'sqft_living','sqft_lot',\n",
    "                 'floors', 'condition', 'grade','sqft_above', 'sqft_basement',\n",
    "                 'yr_built', 'yr_renovated', 'sqft_living15', 'sqft_lot15']"
   ]
  },
  {
   "cell_type": "code",
   "execution_count": 6,
   "metadata": {},
   "outputs": [
    {
     "data": {
      "text/html": [
       "<div>\n",
       "<style scoped>\n",
       "    .dataframe tbody tr th:only-of-type {\n",
       "        vertical-align: middle;\n",
       "    }\n",
       "\n",
       "    .dataframe tbody tr th {\n",
       "        vertical-align: top;\n",
       "    }\n",
       "\n",
       "    .dataframe thead th {\n",
       "        text-align: right;\n",
       "    }\n",
       "</style>\n",
       "<table border=\"1\" class=\"dataframe\">\n",
       "  <thead>\n",
       "    <tr style=\"text-align: right;\">\n",
       "      <th></th>\n",
       "      <th>count</th>\n",
       "      <th>mean</th>\n",
       "      <th>std</th>\n",
       "      <th>min</th>\n",
       "      <th>25%</th>\n",
       "      <th>50%</th>\n",
       "      <th>75%</th>\n",
       "      <th>max</th>\n",
       "    </tr>\n",
       "  </thead>\n",
       "  <tbody>\n",
       "    <tr>\n",
       "      <th>price</th>\n",
       "      <td>21597.0</td>\n",
       "      <td>540296.573506</td>\n",
       "      <td>367368.140101</td>\n",
       "      <td>78000.0</td>\n",
       "      <td>322000.00</td>\n",
       "      <td>450000.00</td>\n",
       "      <td>645000.0</td>\n",
       "      <td>7700000.0</td>\n",
       "    </tr>\n",
       "    <tr>\n",
       "      <th>bedrooms</th>\n",
       "      <td>21597.0</td>\n",
       "      <td>3.373200</td>\n",
       "      <td>0.926299</td>\n",
       "      <td>1.0</td>\n",
       "      <td>3.00</td>\n",
       "      <td>3.00</td>\n",
       "      <td>4.0</td>\n",
       "      <td>33.0</td>\n",
       "    </tr>\n",
       "    <tr>\n",
       "      <th>bathrooms</th>\n",
       "      <td>21597.0</td>\n",
       "      <td>2.115826</td>\n",
       "      <td>0.768984</td>\n",
       "      <td>0.5</td>\n",
       "      <td>1.75</td>\n",
       "      <td>2.25</td>\n",
       "      <td>2.5</td>\n",
       "      <td>8.0</td>\n",
       "    </tr>\n",
       "    <tr>\n",
       "      <th>sqft_living</th>\n",
       "      <td>21597.0</td>\n",
       "      <td>2080.321850</td>\n",
       "      <td>918.106125</td>\n",
       "      <td>370.0</td>\n",
       "      <td>1430.00</td>\n",
       "      <td>1910.00</td>\n",
       "      <td>2550.0</td>\n",
       "      <td>13540.0</td>\n",
       "    </tr>\n",
       "    <tr>\n",
       "      <th>sqft_lot</th>\n",
       "      <td>21597.0</td>\n",
       "      <td>15099.408760</td>\n",
       "      <td>41412.636876</td>\n",
       "      <td>520.0</td>\n",
       "      <td>5040.00</td>\n",
       "      <td>7618.00</td>\n",
       "      <td>10685.0</td>\n",
       "      <td>1651359.0</td>\n",
       "    </tr>\n",
       "    <tr>\n",
       "      <th>floors</th>\n",
       "      <td>21597.0</td>\n",
       "      <td>1.494096</td>\n",
       "      <td>0.539683</td>\n",
       "      <td>1.0</td>\n",
       "      <td>1.00</td>\n",
       "      <td>1.50</td>\n",
       "      <td>2.0</td>\n",
       "      <td>3.5</td>\n",
       "    </tr>\n",
       "    <tr>\n",
       "      <th>sqft_above</th>\n",
       "      <td>21597.0</td>\n",
       "      <td>1788.596842</td>\n",
       "      <td>827.759761</td>\n",
       "      <td>370.0</td>\n",
       "      <td>1190.00</td>\n",
       "      <td>1560.00</td>\n",
       "      <td>2210.0</td>\n",
       "      <td>9410.0</td>\n",
       "    </tr>\n",
       "    <tr>\n",
       "      <th>yr_built</th>\n",
       "      <td>21597.0</td>\n",
       "      <td>1970.999676</td>\n",
       "      <td>29.375234</td>\n",
       "      <td>1900.0</td>\n",
       "      <td>1951.00</td>\n",
       "      <td>1975.00</td>\n",
       "      <td>1997.0</td>\n",
       "      <td>2015.0</td>\n",
       "    </tr>\n",
       "    <tr>\n",
       "      <th>yr_renovated</th>\n",
       "      <td>17755.0</td>\n",
       "      <td>83.636778</td>\n",
       "      <td>399.946414</td>\n",
       "      <td>0.0</td>\n",
       "      <td>0.00</td>\n",
       "      <td>0.00</td>\n",
       "      <td>0.0</td>\n",
       "      <td>2015.0</td>\n",
       "    </tr>\n",
       "    <tr>\n",
       "      <th>sqft_living15</th>\n",
       "      <td>21597.0</td>\n",
       "      <td>1986.620318</td>\n",
       "      <td>685.230472</td>\n",
       "      <td>399.0</td>\n",
       "      <td>1490.00</td>\n",
       "      <td>1840.00</td>\n",
       "      <td>2360.0</td>\n",
       "      <td>6210.0</td>\n",
       "    </tr>\n",
       "    <tr>\n",
       "      <th>sqft_lot15</th>\n",
       "      <td>21597.0</td>\n",
       "      <td>12758.283512</td>\n",
       "      <td>27274.441950</td>\n",
       "      <td>651.0</td>\n",
       "      <td>5100.00</td>\n",
       "      <td>7620.00</td>\n",
       "      <td>10083.0</td>\n",
       "      <td>871200.0</td>\n",
       "    </tr>\n",
       "  </tbody>\n",
       "</table>\n",
       "</div>"
      ],
      "text/plain": [
       "                 count           mean            std      min        25%  \\\n",
       "price          21597.0  540296.573506  367368.140101  78000.0  322000.00   \n",
       "bedrooms       21597.0       3.373200       0.926299      1.0       3.00   \n",
       "bathrooms      21597.0       2.115826       0.768984      0.5       1.75   \n",
       "sqft_living    21597.0    2080.321850     918.106125    370.0    1430.00   \n",
       "sqft_lot       21597.0   15099.408760   41412.636876    520.0    5040.00   \n",
       "floors         21597.0       1.494096       0.539683      1.0       1.00   \n",
       "sqft_above     21597.0    1788.596842     827.759761    370.0    1190.00   \n",
       "yr_built       21597.0    1970.999676      29.375234   1900.0    1951.00   \n",
       "yr_renovated   17755.0      83.636778     399.946414      0.0       0.00   \n",
       "sqft_living15  21597.0    1986.620318     685.230472    399.0    1490.00   \n",
       "sqft_lot15     21597.0   12758.283512   27274.441950    651.0    5100.00   \n",
       "\n",
       "                     50%       75%        max  \n",
       "price          450000.00  645000.0  7700000.0  \n",
       "bedrooms            3.00       4.0       33.0  \n",
       "bathrooms           2.25       2.5        8.0  \n",
       "sqft_living      1910.00    2550.0    13540.0  \n",
       "sqft_lot         7618.00   10685.0  1651359.0  \n",
       "floors              1.50       2.0        3.5  \n",
       "sqft_above       1560.00    2210.0     9410.0  \n",
       "yr_built         1975.00    1997.0     2015.0  \n",
       "yr_renovated        0.00       0.0     2015.0  \n",
       "sqft_living15    1840.00    2360.0     6210.0  \n",
       "sqft_lot15       7620.00   10083.0   871200.0  "
      ]
     },
     "execution_count": 6,
     "metadata": {},
     "output_type": "execute_result"
    }
   ],
   "source": [
    "data = data[home_features]\n",
    "data.describe().transpose()"
   ]
  },
  {
   "cell_type": "markdown",
   "metadata": {},
   "source": [
    "The data will allow us to make general models about sale prices of houses in King County, WA. Since the data is specific to loation of King County, WA the model is biased to sale prices in this area. Therfore it cannot be replicated to other locations."
   ]
  },
  {
   "cell_type": "markdown",
   "metadata": {},
   "source": [
    "## Data Preparation\n",
    "\n",
    "#### Null Values: \n",
    "Reviewed columns with null values and assessed if nulls held meaning. "
   ]
  },
  {
   "cell_type": "code",
   "execution_count": 7,
   "metadata": {},
   "outputs": [
    {
     "data": {
      "text/plain": [
       "3842"
      ]
     },
     "execution_count": 7,
     "metadata": {},
     "output_type": "execute_result"
    }
   ],
   "source": [
    "#number nulls yr_renovated column\n",
    "data['yr_renovated'].isna().sum()"
   ]
  },
  {
   "cell_type": "markdown",
   "metadata": {},
   "source": [
    "Searched King County Assessory Glossery(https://info.kingcounty.gov/assessor/esales/Glossary.aspx?type=r) which did not provide certian of what 0 represents given this data set. In the case of yr_renovated, it appears that 0s and NaN can be interpreted as lacking data about a renovation, we will interpret this as \"no renovation.\""
   ]
  },
  {
   "cell_type": "code",
   "execution_count": 8,
   "metadata": {},
   "outputs": [],
   "source": [
    "#change nulls to 0s\n",
    "data['yr_renovated'].fillna(value=0, inplace=True)"
   ]
  },
  {
   "cell_type": "markdown",
   "metadata": {},
   "source": [
    "#### sqft_basement: \n",
    "One would anticipate `sqft_basement` to be measured as a number (in square feet). "
   ]
  },
  {
   "cell_type": "code",
   "execution_count": 9,
   "metadata": {},
   "outputs": [
    {
     "data": {
      "text/plain": [
       "0.0       12826\n",
       "?           454\n",
       "600.0       217\n",
       "500.0       209\n",
       "700.0       208\n",
       "          ...  \n",
       "2250.0        1\n",
       "1281.0        1\n",
       "588.0         1\n",
       "1284.0        1\n",
       "875.0         1\n",
       "Name: sqft_basement, Length: 304, dtype: int64"
      ]
     },
     "execution_count": 9,
     "metadata": {},
     "output_type": "execute_result"
    }
   ],
   "source": [
    "data['sqft_basement'].value_counts()"
   ]
  },
  {
   "cell_type": "markdown",
   "metadata": {},
   "source": [
    "Homes without a basement have 0. There are 454 '?' Since the question marks do not add informational value to our data set, and prevent computational work with the data, they will be converted to 0s and the column to a numerical type."
   ]
  },
  {
   "cell_type": "code",
   "execution_count": 10,
   "metadata": {},
   "outputs": [],
   "source": [
    "#replace \"?\"\n",
    "data['sqft_basement'].replace(to_replace=\"?\", value=0, inplace=True)"
   ]
  },
  {
   "cell_type": "code",
   "execution_count": 11,
   "metadata": {},
   "outputs": [],
   "source": [
    "#change type\n",
    "data['sqft_basement'] = data['sqft_basement'].astype(float)"
   ]
  },
  {
   "cell_type": "markdown",
   "metadata": {},
   "source": [
    "#### Feature Engineering: \n",
    "\n",
    "There are several columns that may be benificial to combine\n",
    "\n",
    "* **Toal Rooms** - sum of bedrooms and bathrooms\n",
    "\n",
    "* **Bedrooms : Bathrooms** - values close to one show a balance of bedrooms to bathrooms. Values less than one show more bathrooms than bedrooms (strange house). \n",
    "\n",
    "* **Lot square footage: Home square footage** - help determine yard size \n",
    "\n",
    "* **Home square footage : Neighbor sqarefootage**  - compare house size to the neighbors' houses\n",
    "\n",
    "* **Squarefootage in terms of number of bedrooms** - Is there a blance of bedrooms and size of the house?\n",
    "\n",
    "* **New Construction** - homes that were built or renovated within the past 5 years"
   ]
  },
  {
   "cell_type": "code",
   "execution_count": 12,
   "metadata": {},
   "outputs": [],
   "source": [
    "def ratios(data, num, denom):\n",
    "    column = num + \"_\" + denom\n",
    "    data[column] = data[num]/data[denom]\n",
    "\n",
    "ratios(data, 'bedrooms', 'bathrooms')\n",
    "ratios(data, 'sqft_lot', 'sqft_living')\n",
    "ratios(data, 'sqft_living', 'sqft_living15')\n",
    "ratios(data, 'sqft_living', 'bedrooms')"
   ]
  },
  {
   "cell_type": "code",
   "execution_count": 13,
   "metadata": {},
   "outputs": [],
   "source": [
    "data['total_rooms'] = (data['bedrooms'] + data['bathrooms'])\n",
    "data['new_construction'] = (data['yr_built']>2009) | (data['yr_renovated']>2009)\n",
    "data = data.drop(columns = ['yr_built', 'yr_renovated'])"
   ]
  },
  {
   "cell_type": "markdown",
   "metadata": {},
   "source": [
    "#### Grade: \n",
    "Grade (using the language from the documentation, we can categorize these further into high-medium-low sub categories. Houses <=6 all usesd terms such as \"low\", houses with grades between 7 and 10 all used terms such as \"average\", and the >10 grades were all \"high-quality.\""
   ]
  },
  {
   "cell_type": "code",
   "execution_count": 14,
   "metadata": {},
   "outputs": [],
   "source": [
    "def num_grade(row): \n",
    "    return row['grade'].split()[0]"
   ]
  },
  {
   "cell_type": "code",
   "execution_count": 15,
   "metadata": {},
   "outputs": [],
   "source": [
    "data['grade'] = data.apply(lambda row: num_grade(row), axis=1).astype(int)"
   ]
  },
  {
   "cell_type": "code",
   "execution_count": 16,
   "metadata": {},
   "outputs": [],
   "source": [
    "def grade_category(row):\n",
    "    if row['grade'] <=6 :\n",
    "        return '1'\n",
    "    elif row['grade']>6 and row['grade']<10:\n",
    "        return '2'\n",
    "    else:\n",
    "        return '3'"
   ]
  },
  {
   "cell_type": "code",
   "execution_count": 17,
   "metadata": {},
   "outputs": [],
   "source": [
    "data['grade_category'] = data.apply(lambda row: grade_category(row), axis=1).astype(int)"
   ]
  },
  {
   "cell_type": "code",
   "execution_count": 18,
   "metadata": {},
   "outputs": [],
   "source": [
    "def condition(row):\n",
    "    if row['condition'] == \"Poor\" :\n",
    "        return 1\n",
    "    elif row['condition'] == \"Fair\" :\n",
    "        return 2\n",
    "    elif row['condition'] == \"Average\" :\n",
    "        return 3\n",
    "    elif row['condition'] == \"Good\" :\n",
    "        return 4\n",
    "    elif row['condition'] == \"Very Good\" :\n",
    "        return 5"
   ]
  },
  {
   "cell_type": "code",
   "execution_count": 19,
   "metadata": {},
   "outputs": [],
   "source": [
    "data['condition'] = data.apply(lambda row: grade_category(row), axis=1).astype(int)"
   ]
  },
  {
   "cell_type": "code",
   "execution_count": 20,
   "metadata": {},
   "outputs": [],
   "source": [
    "data = data.drop(columns = ['sqft_above', 'sqft_basement','sqft_lot', 'sqft_lot15',\n",
    "                            'sqft_lot_sqft_living'])"
   ]
  },
  {
   "cell_type": "markdown",
   "metadata": {},
   "source": [
    "## Modeling"
   ]
  },
  {
   "cell_type": "code",
   "execution_count": 21,
   "metadata": {},
   "outputs": [],
   "source": [
    "#Test Train Split the data\n",
    "X = data.drop(columns=['price'])\n",
    "y = data['price']\n",
    "\n",
    "X_train, X_test, y_train, y_test = train_test_split(X, y, test_size=0.25, random_state=42)\n",
    "\n",
    "#create test and train data frames\n",
    "train_df = pd.concat([X_train, y_train], axis=1)\n",
    "test_df = pd.concat([X_test, y_test], axis=1)"
   ]
  },
  {
   "cell_type": "code",
   "execution_count": 22,
   "metadata": {},
   "outputs": [
    {
     "data": {
      "text/html": [
       "<div>\n",
       "<style scoped>\n",
       "    .dataframe tbody tr th:only-of-type {\n",
       "        vertical-align: middle;\n",
       "    }\n",
       "\n",
       "    .dataframe tbody tr th {\n",
       "        vertical-align: top;\n",
       "    }\n",
       "\n",
       "    .dataframe thead th {\n",
       "        text-align: right;\n",
       "    }\n",
       "</style>\n",
       "<table border=\"1\" class=\"dataframe\">\n",
       "  <thead>\n",
       "    <tr style=\"text-align: right;\">\n",
       "      <th></th>\n",
       "      <th>bedrooms</th>\n",
       "      <th>bathrooms</th>\n",
       "      <th>sqft_living</th>\n",
       "      <th>floors</th>\n",
       "      <th>condition</th>\n",
       "      <th>grade</th>\n",
       "      <th>sqft_living15</th>\n",
       "      <th>bedrooms_bathrooms</th>\n",
       "      <th>sqft_living_sqft_living15</th>\n",
       "      <th>sqft_living_bedrooms</th>\n",
       "      <th>total_rooms</th>\n",
       "      <th>grade_category</th>\n",
       "      <th>price</th>\n",
       "    </tr>\n",
       "  </thead>\n",
       "  <tbody>\n",
       "    <tr>\n",
       "      <th>count</th>\n",
       "      <td>16197.000000</td>\n",
       "      <td>16197.000000</td>\n",
       "      <td>16197.000000</td>\n",
       "      <td>16197.000000</td>\n",
       "      <td>16197.000000</td>\n",
       "      <td>16197.000000</td>\n",
       "      <td>16197.000000</td>\n",
       "      <td>16197.000000</td>\n",
       "      <td>16197.000000</td>\n",
       "      <td>16197.000000</td>\n",
       "      <td>16197.000000</td>\n",
       "      <td>16197.000000</td>\n",
       "      <td>1.619700e+04</td>\n",
       "    </tr>\n",
       "    <tr>\n",
       "      <th>mean</th>\n",
       "      <td>3.372229</td>\n",
       "      <td>2.116426</td>\n",
       "      <td>2083.693030</td>\n",
       "      <td>1.494752</td>\n",
       "      <td>1.969809</td>\n",
       "      <td>7.658702</td>\n",
       "      <td>1987.809286</td>\n",
       "      <td>1.750182</td>\n",
       "      <td>1.053928</td>\n",
       "      <td>619.321692</td>\n",
       "      <td>5.488655</td>\n",
       "      <td>1.969809</td>\n",
       "      <td>5.412845e+05</td>\n",
       "    </tr>\n",
       "    <tr>\n",
       "      <th>std</th>\n",
       "      <td>0.905951</td>\n",
       "      <td>0.768049</td>\n",
       "      <td>918.209756</td>\n",
       "      <td>0.540474</td>\n",
       "      <td>0.424625</td>\n",
       "      <td>1.169277</td>\n",
       "      <td>685.189105</td>\n",
       "      <td>0.653123</td>\n",
       "      <td>0.319392</td>\n",
       "      <td>216.114350</td>\n",
       "      <td>1.465289</td>\n",
       "      <td>0.424625</td>\n",
       "      <td>3.663447e+05</td>\n",
       "    </tr>\n",
       "    <tr>\n",
       "      <th>min</th>\n",
       "      <td>1.000000</td>\n",
       "      <td>0.500000</td>\n",
       "      <td>370.000000</td>\n",
       "      <td>1.000000</td>\n",
       "      <td>1.000000</td>\n",
       "      <td>3.000000</td>\n",
       "      <td>399.000000</td>\n",
       "      <td>0.400000</td>\n",
       "      <td>0.248344</td>\n",
       "      <td>200.000000</td>\n",
       "      <td>1.500000</td>\n",
       "      <td>1.000000</td>\n",
       "      <td>7.800000e+04</td>\n",
       "    </tr>\n",
       "    <tr>\n",
       "      <th>25%</th>\n",
       "      <td>3.000000</td>\n",
       "      <td>1.750000</td>\n",
       "      <td>1430.000000</td>\n",
       "      <td>1.000000</td>\n",
       "      <td>2.000000</td>\n",
       "      <td>7.000000</td>\n",
       "      <td>1490.000000</td>\n",
       "      <td>1.333333</td>\n",
       "      <td>0.883495</td>\n",
       "      <td>470.000000</td>\n",
       "      <td>4.500000</td>\n",
       "      <td>2.000000</td>\n",
       "      <td>3.235000e+05</td>\n",
       "    </tr>\n",
       "    <tr>\n",
       "      <th>50%</th>\n",
       "      <td>3.000000</td>\n",
       "      <td>2.250000</td>\n",
       "      <td>1912.000000</td>\n",
       "      <td>1.500000</td>\n",
       "      <td>2.000000</td>\n",
       "      <td>7.000000</td>\n",
       "      <td>1840.000000</td>\n",
       "      <td>1.600000</td>\n",
       "      <td>1.000000</td>\n",
       "      <td>577.500000</td>\n",
       "      <td>5.500000</td>\n",
       "      <td>2.000000</td>\n",
       "      <td>4.500000e+05</td>\n",
       "    </tr>\n",
       "    <tr>\n",
       "      <th>75%</th>\n",
       "      <td>4.000000</td>\n",
       "      <td>2.500000</td>\n",
       "      <td>2560.000000</td>\n",
       "      <td>2.000000</td>\n",
       "      <td>2.000000</td>\n",
       "      <td>8.000000</td>\n",
       "      <td>2360.000000</td>\n",
       "      <td>2.000000</td>\n",
       "      <td>1.161383</td>\n",
       "      <td>725.000000</td>\n",
       "      <td>6.500000</td>\n",
       "      <td>2.000000</td>\n",
       "      <td>6.450000e+05</td>\n",
       "    </tr>\n",
       "    <tr>\n",
       "      <th>max</th>\n",
       "      <td>11.000000</td>\n",
       "      <td>8.000000</td>\n",
       "      <td>13540.000000</td>\n",
       "      <td>3.500000</td>\n",
       "      <td>3.000000</td>\n",
       "      <td>13.000000</td>\n",
       "      <td>6210.000000</td>\n",
       "      <td>8.000000</td>\n",
       "      <td>6.000000</td>\n",
       "      <td>3000.000000</td>\n",
       "      <td>15.250000</td>\n",
       "      <td>3.000000</td>\n",
       "      <td>7.700000e+06</td>\n",
       "    </tr>\n",
       "  </tbody>\n",
       "</table>\n",
       "</div>"
      ],
      "text/plain": [
       "           bedrooms     bathrooms   sqft_living        floors     condition  \\\n",
       "count  16197.000000  16197.000000  16197.000000  16197.000000  16197.000000   \n",
       "mean       3.372229      2.116426   2083.693030      1.494752      1.969809   \n",
       "std        0.905951      0.768049    918.209756      0.540474      0.424625   \n",
       "min        1.000000      0.500000    370.000000      1.000000      1.000000   \n",
       "25%        3.000000      1.750000   1430.000000      1.000000      2.000000   \n",
       "50%        3.000000      2.250000   1912.000000      1.500000      2.000000   \n",
       "75%        4.000000      2.500000   2560.000000      2.000000      2.000000   \n",
       "max       11.000000      8.000000  13540.000000      3.500000      3.000000   \n",
       "\n",
       "              grade  sqft_living15  bedrooms_bathrooms  \\\n",
       "count  16197.000000   16197.000000        16197.000000   \n",
       "mean       7.658702    1987.809286            1.750182   \n",
       "std        1.169277     685.189105            0.653123   \n",
       "min        3.000000     399.000000            0.400000   \n",
       "25%        7.000000    1490.000000            1.333333   \n",
       "50%        7.000000    1840.000000            1.600000   \n",
       "75%        8.000000    2360.000000            2.000000   \n",
       "max       13.000000    6210.000000            8.000000   \n",
       "\n",
       "       sqft_living_sqft_living15  sqft_living_bedrooms   total_rooms  \\\n",
       "count               16197.000000          16197.000000  16197.000000   \n",
       "mean                    1.053928            619.321692      5.488655   \n",
       "std                     0.319392            216.114350      1.465289   \n",
       "min                     0.248344            200.000000      1.500000   \n",
       "25%                     0.883495            470.000000      4.500000   \n",
       "50%                     1.000000            577.500000      5.500000   \n",
       "75%                     1.161383            725.000000      6.500000   \n",
       "max                     6.000000           3000.000000     15.250000   \n",
       "\n",
       "       grade_category         price  \n",
       "count    16197.000000  1.619700e+04  \n",
       "mean         1.969809  5.412845e+05  \n",
       "std          0.424625  3.663447e+05  \n",
       "min          1.000000  7.800000e+04  \n",
       "25%          2.000000  3.235000e+05  \n",
       "50%          2.000000  4.500000e+05  \n",
       "75%          2.000000  6.450000e+05  \n",
       "max          3.000000  7.700000e+06  "
      ]
     },
     "execution_count": 22,
     "metadata": {},
     "output_type": "execute_result"
    }
   ],
   "source": [
    "train_df.describe()"
   ]
  },
  {
   "cell_type": "code",
   "execution_count": 23,
   "metadata": {},
   "outputs": [
    {
     "data": {
      "image/png": "[encoded data removed]",
      "text/plain": [
       "<Figure size 648x648 with 1 Axes>"
      ]
     },
     "metadata": {
      "needs_background": "light"
     },
     "output_type": "display_data"
    }
   ],
   "source": [
    "#Checking for outliers\n",
    "plt.figure(figsize = (9,9))\n",
    "train_df.boxplot(column = 'price')\n",
    "plt.show()"
   ]
  },
  {
   "cell_type": "code",
   "execution_count": 24,
   "metadata": {},
   "outputs": [
    {
     "data": {
      "image/png": "[encoded data removed]",
      "text/plain": [
       "<Figure size 432x288 with 1 Axes>"
      ]
     },
     "metadata": {
      "needs_background": "light"
     },
     "output_type": "display_data"
    }
   ],
   "source": [
    "train_df.hist(column='price');"
   ]
  },
  {
   "cell_type": "code",
   "execution_count": 25,
   "metadata": {},
   "outputs": [
    {
     "data": {
      "text/plain": [
       "(16110, 14)"
      ]
     },
     "execution_count": 25,
     "metadata": {},
     "output_type": "execute_result"
    }
   ],
   "source": [
    "#remove outliers that may cause overfitting\n",
    "Q1 = train_df.quantile(0.05)\n",
    "Q3 = train_df.quantile(0.95)\n",
    "IQR = Q3 - Q1\n",
    "train_df = train_df[~((train_df < (Q1-1.5*IQR)) | (train_df> (Q3 + 1.5*IQR))).any(axis=1)]\n",
    "\n",
    "train_df.shape"
   ]
  },
  {
   "cell_type": "code",
   "execution_count": 26,
   "metadata": {},
   "outputs": [],
   "source": [
    "X_train = train_df.drop(columns=['price'])\n",
    "y_train = train_df['price']"
   ]
  },
  {
   "cell_type": "markdown",
   "metadata": {},
   "source": [
    "### Baseline Understading\n",
    "\n",
    "The baseline model is the the average sale price of all homes sold. In this case, $529,564.00"
   ]
  },
  {
   "cell_type": "code",
   "execution_count": 27,
   "metadata": {},
   "outputs": [
    {
     "data": {
      "text/plain": [
       "529563.7041589075"
      ]
     },
     "execution_count": 27,
     "metadata": {},
     "output_type": "execute_result"
    }
   ],
   "source": [
    "train_mean = train_df['price'].mean()\n",
    "train_mean"
   ]
  },
  {
   "cell_type": "code",
   "execution_count": 28,
   "metadata": {
    "scrolled": true
   },
   "outputs": [
    {
     "data": {
      "image/png": "[encoded data removed]",
      "text/plain": [
       "<Figure size 432x288 with 2 Axes>"
      ]
     },
     "metadata": {
      "needs_background": "light"
     },
     "output_type": "display_data"
    }
   ],
   "source": [
    "#Using the heatmap to view the feature that correlates with the `price`.\n",
    "sns.heatmap(abs(train_df.corr())[['price']], annot = True);"
   ]
  },
  {
   "cell_type": "code",
   "execution_count": 29,
   "metadata": {},
   "outputs": [],
   "source": [
    "# sns.set()\n",
    "# sns.pairplot(train_df)"
   ]
  },
  {
   "cell_type": "markdown",
   "metadata": {},
   "source": [
    "The correlation pairplots confirms the findings of the heatmap. There is significant correlation between the `price`, `sqft_living`, `grade`, `sqft_living_bedrooms`, `bathrooms`, `sqft_living15`. Which gives us the opportunity to combine features so we can determine a better r2 for our model."
   ]
  },
  {
   "cell_type": "code",
   "execution_count": 30,
   "metadata": {},
   "outputs": [
    {
     "data": {
      "text/plain": [
       "Text(0.5, 0, 'Square Feet')"
      ]
     },
     "execution_count": 30,
     "metadata": {},
     "output_type": "execute_result"
    },
    {
     "data": {
      "image/png": "[encoded data removed]",
      "text/plain": [
       "<Figure size 432x288 with 1 Axes>"
      ]
     },
     "metadata": {
      "needs_background": "light"
     },
     "output_type": "display_data"
    }
   ],
   "source": [
    "x = data['sqft_living']\n",
    "y = data['price']\n",
    "\n",
    "m, b = np.polyfit(x,y,1)\n",
    "\n",
    "plt.plot(x, y, '.')\n",
    "plt.plot(x, m*x+b)\n",
    "plt.title('Square feet to Sales Price')\n",
    "plt.ylabel('Price')\n",
    "plt.xlabel('Square Feet')"
   ]
  },
  {
   "cell_type": "markdown",
   "metadata": {},
   "source": [
    "### Simple Model"
   ]
  },
  {
   "cell_type": "code",
   "execution_count": 31,
   "metadata": {
    "scrolled": false
   },
   "outputs": [
    {
     "data": {
      "text/html": [
       "<table class=\"simpletable\">\n",
       "<caption>OLS Regression Results</caption>\n",
       "<tr>\n",
       "  <th>Dep. Variable:</th>          <td>price</td>      <th>  R-squared:         </th>  <td>   0.472</td>  \n",
       "</tr>\n",
       "<tr>\n",
       "  <th>Model:</th>                   <td>OLS</td>       <th>  Adj. R-squared:    </th>  <td>   0.472</td>  \n",
       "</tr>\n",
       "<tr>\n",
       "  <th>Method:</th>             <td>Least Squares</td>  <th>  F-statistic:       </th>  <td>1.438e+04</td> \n",
       "</tr>\n",
       "<tr>\n",
       "  <th>Date:</th>             <td>Thu, 07 Oct 2021</td> <th>  Prob (F-statistic):</th>   <td>  0.00</td>   \n",
       "</tr>\n",
       "<tr>\n",
       "  <th>Time:</th>                 <td>23:28:16</td>     <th>  Log-Likelihood:    </th> <td>-2.2170e+05</td>\n",
       "</tr>\n",
       "<tr>\n",
       "  <th>No. Observations:</th>      <td> 16110</td>      <th>  AIC:               </th>  <td>4.434e+05</td> \n",
       "</tr>\n",
       "<tr>\n",
       "  <th>Df Residuals:</th>          <td> 16108</td>      <th>  BIC:               </th>  <td>4.434e+05</td> \n",
       "</tr>\n",
       "<tr>\n",
       "  <th>Df Model:</th>              <td>     1</td>      <th>                     </th>      <td> </td>     \n",
       "</tr>\n",
       "<tr>\n",
       "  <th>Covariance Type:</th>      <td>nonrobust</td>    <th>                     </th>      <td> </td>     \n",
       "</tr>\n",
       "</table>\n",
       "<table class=\"simpletable\">\n",
       "<tr>\n",
       "       <td></td>          <th>coef</th>     <th>std err</th>      <th>t</th>      <th>P>|t|</th>  <th>[0.025</th>    <th>0.975]</th>  \n",
       "</tr>\n",
       "<tr>\n",
       "  <th>Intercept</th>   <td> 2.122e+04</td> <td> 4607.729</td> <td>    4.606</td> <td> 0.000</td> <td> 1.22e+04</td> <td> 3.03e+04</td>\n",
       "</tr>\n",
       "<tr>\n",
       "  <th>sqft_living</th> <td>  245.8974</td> <td>    2.050</td> <td>  119.925</td> <td> 0.000</td> <td>  241.878</td> <td>  249.916</td>\n",
       "</tr>\n",
       "</table>\n",
       "<table class=\"simpletable\">\n",
       "<tr>\n",
       "  <th>Omnibus:</th>       <td>5781.377</td> <th>  Durbin-Watson:     </th> <td>   1.990</td> \n",
       "</tr>\n",
       "<tr>\n",
       "  <th>Prob(Omnibus):</th>  <td> 0.000</td>  <th>  Jarque-Bera (JB):  </th> <td>33277.047</td>\n",
       "</tr>\n",
       "<tr>\n",
       "  <th>Skew:</th>           <td> 1.618</td>  <th>  Prob(JB):          </th> <td>    0.00</td> \n",
       "</tr>\n",
       "<tr>\n",
       "  <th>Kurtosis:</th>       <td> 9.253</td>  <th>  Cond. No.          </th> <td>5.73e+03</td> \n",
       "</tr>\n",
       "</table><br/><br/>Notes:<br/>[1] Standard Errors assume that the covariance matrix of the errors is correctly specified.<br/>[2] The condition number is large, 5.73e+03. This might indicate that there are<br/>strong multicollinearity or other numerical problems."
      ],
      "text/plain": [
       "<class 'statsmodels.iolib.summary.Summary'>\n",
       "\"\"\"\n",
       "                            OLS Regression Results                            \n",
       "==============================================================================\n",
       "Dep. Variable:                  price   R-squared:                       0.472\n",
       "Model:                            OLS   Adj. R-squared:                  0.472\n",
       "Method:                 Least Squares   F-statistic:                 1.438e+04\n",
       "Date:                Thu, 07 Oct 2021   Prob (F-statistic):               0.00\n",
       "Time:                        23:28:16   Log-Likelihood:            -2.2170e+05\n",
       "No. Observations:               16110   AIC:                         4.434e+05\n",
       "Df Residuals:                   16108   BIC:                         4.434e+05\n",
       "Df Model:                           1                                         \n",
       "Covariance Type:            nonrobust                                         \n",
       "===============================================================================\n",
       "                  coef    std err          t      P>|t|      [0.025      0.975]\n",
       "-------------------------------------------------------------------------------\n",
       "Intercept    2.122e+04   4607.729      4.606      0.000    1.22e+04    3.03e+04\n",
       "sqft_living   245.8974      2.050    119.925      0.000     241.878     249.916\n",
       "==============================================================================\n",
       "Omnibus:                     5781.377   Durbin-Watson:                   1.990\n",
       "Prob(Omnibus):                  0.000   Jarque-Bera (JB):            33277.047\n",
       "Skew:                           1.618   Prob(JB):                         0.00\n",
       "Kurtosis:                       9.253   Cond. No.                     5.73e+03\n",
       "==============================================================================\n",
       "\n",
       "Notes:\n",
       "[1] Standard Errors assume that the covariance matrix of the errors is correctly specified.\n",
       "[2] The condition number is large, 5.73e+03. This might indicate that there are\n",
       "strong multicollinearity or other numerical problems.\n",
       "\"\"\""
      ]
     },
     "execution_count": 31,
     "metadata": {},
     "output_type": "execute_result"
    }
   ],
   "source": [
    "#get the formula\n",
    "formula = 'price ~ sqft_living'\n",
    "\n",
    "#using stats model ols\n",
    "simple_model = ols(formula = formula, data = train_df).fit()\n",
    "simple_model.summary()"
   ]
  },
  {
   "cell_type": "code",
   "execution_count": 32,
   "metadata": {},
   "outputs": [],
   "source": [
    "#predictions based on model\n",
    "simple_train_predicts = simple_model.predict()"
   ]
  },
  {
   "cell_type": "code",
   "execution_count": 33,
   "metadata": {},
   "outputs": [
    {
     "data": {
      "image/png": "[encoded data removed]",
      "text/plain": [
       "<Figure size 432x288 with 1 Axes>"
      ]
     },
     "metadata": {
      "needs_background": "light"
     },
     "output_type": "display_data"
    }
   ],
   "source": [
    "#Visualize predictions relative to baseline\n",
    "\n",
    "#plot train data\n",
    "plt.scatter(train_df['sqft_living'], train_df['price'])\n",
    "\n",
    "#best fit\n",
    "plt.plot(train_df['sqft_living'], simple_train_predicts, color='black', label='line of best fit')\n",
    "\n",
    "\n",
    "#baseline\n",
    "plt.hlines(y=train_df['price'].mean(), color='red', label='average train balance',\n",
    "           xmin=train_df['sqft_living'].min(), xmax=train_df['sqft_living'].max())\n",
    "\n",
    "#formatting\n",
    "plt.ylabel('Price')\n",
    "plt.xlabel('Square Feet')\n",
    "plt.title('Square Feet vs Price')\n",
    "plt.legend()\n",
    "plt.show()"
   ]
  },
  {
   "cell_type": "code",
   "execution_count": 34,
   "metadata": {},
   "outputs": [],
   "source": [
    "#calculate residuals\n",
    "train_residuals = y_train - simple_train_predicts"
   ]
  },
  {
   "cell_type": "code",
   "execution_count": 35,
   "metadata": {},
   "outputs": [
    {
     "data": {
      "image/png": "[encoded data removed]",
      "text/plain": [
       "<Figure size 432x288 with 1 Axes>"
      ]
     },
     "metadata": {
      "needs_background": "light"
     },
     "output_type": "display_data"
    }
   ],
   "source": [
    "#plot train data\n",
    "plt.scatter(train_df['sqft_living'], train_df['price'], label='actual')\n",
    "\n",
    "#residuals\n",
    "plt.scatter(train_df['sqft_living'], train_residuals, color='green', label='residuals');\n",
    "\n",
    "plt.title('Train data vs. Residuals')\n",
    "plt.legend()\n",
    "plt.show()"
   ]
  },
  {
   "cell_type": "code",
   "execution_count": 36,
   "metadata": {},
   "outputs": [],
   "source": [
    "#predict test data\n",
    "simple_test_predicts = simple_model.predict(test_df)"
   ]
  },
  {
   "cell_type": "code",
   "execution_count": 37,
   "metadata": {},
   "outputs": [
    {
     "name": "stdout",
     "output_type": "stream",
     "text": [
      " Train r2: 0.4716969166974223\n",
      " Test r2: 0.48924042733802\n"
     ]
    }
   ],
   "source": [
    "#compare r2 of treain and test data\n",
    "print(f' Train r2: {r2_score(y_train, simple_train_predicts)}')\n",
    "print(f' Test r2: {r2_score(y_test, simple_test_predicts)}')"
   ]
  },
  {
   "cell_type": "markdown",
   "metadata": {},
   "source": [
    "Our first simple model can account for approximately 47% variance in our data. "
   ]
  },
  {
   "cell_type": "markdown",
   "metadata": {},
   "source": [
    "## Multilinear Regression"
   ]
  },
  {
   "cell_type": "code",
   "execution_count": 38,
   "metadata": {},
   "outputs": [
    {
     "data": {
      "text/plain": [
       "<AxesSubplot:>"
      ]
     },
     "execution_count": 38,
     "metadata": {},
     "output_type": "execute_result"
    },
    {
     "data": {
      "image/png": "[encoded data removed]",
      "text/plain": [
       "<Figure size 648x648 with 2 Axes>"
      ]
     },
     "metadata": {
      "needs_background": "light"
     },
     "output_type": "display_data"
    }
   ],
   "source": [
    "#using heatmap for correlation between price and variabels \n",
    "#assessing correlation within variables to determine multicollinearity \n",
    "\n",
    "plt.figure(figsize = (9,9))\n",
    "sns.heatmap(train_df.corr(), annot = True, fmt='.2f')"
   ]
  },
  {
   "cell_type": "code",
   "execution_count": 49,
   "metadata": {},
   "outputs": [],
   "source": [
    "#Instantiating scaler to compare coefficients\n",
    "scaler = StandardScaler()\n",
    "\n",
    "scaler.fit(X_train)\n",
    "\n",
    "#apply scaler\n",
    "X_train_scaled = scaler.transform(X_train)\n",
    "X_test_scaled = scaler.transform(X_test)\n",
    "\n",
    "#create dataframe\n",
    "X_train_scaled = pd.DataFrame(X_train_scaled, columns=X_train.columns, \n",
    "                              index=X_train.index)\n",
    "\n",
    "X_test_scaled = pd.DataFrame(X_test_scaled, columns=X_test.columns, \n",
    "                              index=X_test.index)\n",
    "\n",
    "#include target\n",
    "train_df_scaled = pd.concat([X_train_scaled, y_train], axis=1)\n",
    "test_df_scaled = pd.concat([X_test_scaled, y_test], axis=1)"
   ]
  },
  {
   "cell_type": "code",
   "execution_count": 51,
   "metadata": {},
   "outputs": [],
   "source": [
    "house_features = ['sqft_living','bedrooms', 'bathrooms', 'floors', 'grade', \n",
    "                  'condition', 'sqft_living_bedrooms', 'new_construction']"
   ]
  },
  {
   "cell_type": "code",
   "execution_count": 52,
   "metadata": {},
   "outputs": [
    {
     "data": {
      "text/html": [
       "<table class=\"simpletable\">\n",
       "<caption>OLS Regression Results</caption>\n",
       "<tr>\n",
       "  <th>Dep. Variable:</th>          <td>price</td>      <th>  R-squared:         </th>  <td>   0.541</td>  \n",
       "</tr>\n",
       "<tr>\n",
       "  <th>Model:</th>                   <td>OLS</td>       <th>  Adj. R-squared:    </th>  <td>   0.541</td>  \n",
       "</tr>\n",
       "<tr>\n",
       "  <th>Method:</th>             <td>Least Squares</td>  <th>  F-statistic:       </th>  <td>   2376.</td>  \n",
       "</tr>\n",
       "<tr>\n",
       "  <th>Date:</th>             <td>Thu, 07 Oct 2021</td> <th>  Prob (F-statistic):</th>   <td>  0.00</td>   \n",
       "</tr>\n",
       "<tr>\n",
       "  <th>Time:</th>                 <td>23:40:05</td>     <th>  Log-Likelihood:    </th> <td>-2.2056e+05</td>\n",
       "</tr>\n",
       "<tr>\n",
       "  <th>No. Observations:</th>      <td> 16110</td>      <th>  AIC:               </th>  <td>4.411e+05</td> \n",
       "</tr>\n",
       "<tr>\n",
       "  <th>Df Residuals:</th>          <td> 16101</td>      <th>  BIC:               </th>  <td>4.412e+05</td> \n",
       "</tr>\n",
       "<tr>\n",
       "  <th>Df Model:</th>              <td>     8</td>      <th>                     </th>      <td> </td>     \n",
       "</tr>\n",
       "<tr>\n",
       "  <th>Covariance Type:</th>      <td>nonrobust</td>    <th>                     </th>      <td> </td>     \n",
       "</tr>\n",
       "</table>\n",
       "<table class=\"simpletable\">\n",
       "<tr>\n",
       "            <td></td>              <th>coef</th>     <th>std err</th>      <th>t</th>      <th>P>|t|</th>  <th>[0.025</th>    <th>0.975]</th>  \n",
       "</tr>\n",
       "<tr>\n",
       "  <th>Intercept</th>            <td> 5.296e+05</td> <td> 1683.552</td> <td>  314.551</td> <td> 0.000</td> <td> 5.26e+05</td> <td> 5.33e+05</td>\n",
       "</tr>\n",
       "<tr>\n",
       "  <th>sqft_living</th>          <td> 1.829e+05</td> <td> 7912.717</td> <td>   23.108</td> <td> 0.000</td> <td> 1.67e+05</td> <td> 1.98e+05</td>\n",
       "</tr>\n",
       "<tr>\n",
       "  <th>bedrooms</th>             <td>-4.423e+04</td> <td> 5013.872</td> <td>   -8.822</td> <td> 0.000</td> <td>-5.41e+04</td> <td>-3.44e+04</td>\n",
       "</tr>\n",
       "<tr>\n",
       "  <th>bathrooms</th>            <td>-9801.9037</td> <td> 2847.820</td> <td>   -3.442</td> <td> 0.001</td> <td>-1.54e+04</td> <td>-4219.860</td>\n",
       "</tr>\n",
       "<tr>\n",
       "  <th>floors</th>               <td>-1.436e+04</td> <td> 2060.371</td> <td>   -6.970</td> <td> 0.000</td> <td>-1.84e+04</td> <td>-1.03e+04</td>\n",
       "</tr>\n",
       "<tr>\n",
       "  <th>grade</th>                <td> 1.298e+05</td> <td> 3607.824</td> <td>   35.971</td> <td> 0.000</td> <td> 1.23e+05</td> <td> 1.37e+05</td>\n",
       "</tr>\n",
       "<tr>\n",
       "  <th>condition</th>            <td>-8927.3098</td> <td> 2777.008</td> <td>   -3.215</td> <td> 0.001</td> <td>-1.44e+04</td> <td>-3484.065</td>\n",
       "</tr>\n",
       "<tr>\n",
       "  <th>sqft_living_bedrooms</th> <td>-2.598e+04</td> <td> 5995.086</td> <td>   -4.333</td> <td> 0.000</td> <td>-3.77e+04</td> <td>-1.42e+04</td>\n",
       "</tr>\n",
       "<tr>\n",
       "  <th>new_construction</th>     <td>-4907.8539</td> <td> 1747.024</td> <td>   -2.809</td> <td> 0.005</td> <td>-8332.215</td> <td>-1483.493</td>\n",
       "</tr>\n",
       "</table>\n",
       "<table class=\"simpletable\">\n",
       "<tr>\n",
       "  <th>Omnibus:</th>       <td>6014.018</td> <th>  Durbin-Watson:     </th> <td>   1.990</td> \n",
       "</tr>\n",
       "<tr>\n",
       "  <th>Prob(Omnibus):</th>  <td> 0.000</td>  <th>  Jarque-Bera (JB):  </th> <td>36983.468</td>\n",
       "</tr>\n",
       "<tr>\n",
       "  <th>Skew:</th>           <td> 1.670</td>  <th>  Prob(JB):          </th> <td>    0.00</td> \n",
       "</tr>\n",
       "<tr>\n",
       "  <th>Kurtosis:</th>       <td> 9.629</td>  <th>  Cond. No.          </th> <td>    13.0</td> \n",
       "</tr>\n",
       "</table><br/><br/>Notes:<br/>[1] Standard Errors assume that the covariance matrix of the errors is correctly specified."
      ],
      "text/plain": [
       "<class 'statsmodels.iolib.summary.Summary'>\n",
       "\"\"\"\n",
       "                            OLS Regression Results                            \n",
       "==============================================================================\n",
       "Dep. Variable:                  price   R-squared:                       0.541\n",
       "Model:                            OLS   Adj. R-squared:                  0.541\n",
       "Method:                 Least Squares   F-statistic:                     2376.\n",
       "Date:                Thu, 07 Oct 2021   Prob (F-statistic):               0.00\n",
       "Time:                        23:40:05   Log-Likelihood:            -2.2056e+05\n",
       "No. Observations:               16110   AIC:                         4.411e+05\n",
       "Df Residuals:                   16101   BIC:                         4.412e+05\n",
       "Df Model:                           8                                         \n",
       "Covariance Type:            nonrobust                                         \n",
       "========================================================================================\n",
       "                           coef    std err          t      P>|t|      [0.025      0.975]\n",
       "----------------------------------------------------------------------------------------\n",
       "Intercept             5.296e+05   1683.552    314.551      0.000    5.26e+05    5.33e+05\n",
       "sqft_living           1.829e+05   7912.717     23.108      0.000    1.67e+05    1.98e+05\n",
       "bedrooms             -4.423e+04   5013.872     -8.822      0.000   -5.41e+04   -3.44e+04\n",
       "bathrooms            -9801.9037   2847.820     -3.442      0.001   -1.54e+04   -4219.860\n",
       "floors               -1.436e+04   2060.371     -6.970      0.000   -1.84e+04   -1.03e+04\n",
       "grade                 1.298e+05   3607.824     35.971      0.000    1.23e+05    1.37e+05\n",
       "condition            -8927.3098   2777.008     -3.215      0.001   -1.44e+04   -3484.065\n",
       "sqft_living_bedrooms -2.598e+04   5995.086     -4.333      0.000   -3.77e+04   -1.42e+04\n",
       "new_construction     -4907.8539   1747.024     -2.809      0.005   -8332.215   -1483.493\n",
       "==============================================================================\n",
       "Omnibus:                     6014.018   Durbin-Watson:                   1.990\n",
       "Prob(Omnibus):                  0.000   Jarque-Bera (JB):            36983.468\n",
       "Skew:                           1.670   Prob(JB):                         0.00\n",
       "Kurtosis:                       9.629   Cond. No.                         13.0\n",
       "==============================================================================\n",
       "\n",
       "Notes:\n",
       "[1] Standard Errors assume that the covariance matrix of the errors is correctly specified.\n",
       "\"\"\""
      ]
     },
     "execution_count": 52,
     "metadata": {},
     "output_type": "execute_result"
    }
   ],
   "source": [
    "multi_formula = 'price ~' + '+'.join(house_features)\n",
    "\n",
    "scaled_model = ols(formula = multi_formula, data=train_df_scaled).fit()\n",
    "scaled_model.summary()"
   ]
  },
  {
   "cell_type": "markdown",
   "metadata": {},
   "source": [
    "This model accounts for 54% of variance, but has high multicollnearity. `sqft_living`, `grade` have a strong positive relationship in this model with price while `bathrooms` have a strong negative relationship.\n",
    "\n",
    "Evaluating errors of this model: "
   ]
  },
  {
   "cell_type": "code",
   "execution_count": 65,
   "metadata": {},
   "outputs": [
    {
     "data": {
      "text/plain": [
       "array([ 529649.3286284 ,  466424.68772329, 1074354.03023279, ...,\n",
       "        272626.80008102,   79169.83051338,  654120.86043984])"
      ]
     },
     "execution_count": 65,
     "metadata": {},
     "output_type": "execute_result"
    }
   ],
   "source": [
    "#predictions of model\n",
    "multi_train_predicts = scaled_model.predict()\n",
    "multi_train_predicts"
   ]
  },
  {
   "cell_type": "code",
   "execution_count": 92,
   "metadata": {},
   "outputs": [
    {
     "name": "stdout",
     "output_type": "stream",
     "text": [
      " r_squared: 0.54\n",
      " Mean Absolute Error: 150023.83\n",
      " Root Mean Squared Error: 213625.44\n"
     ]
    }
   ],
   "source": [
    "#Evaluating the model:\n",
    "print(f' r_squared: {r2_score(y_train, multi_train_predicts):.2f}')\n",
    "print(f' Mean Absolute Error: {mean_absolute_error(y_train, multi_train_predicts):.2f}')\n",
    "print(f' Root Mean Squared Error: {mean_squared_error(y_train, multi_train_predicts, squared=False):.2f}')"
   ]
  },
  {
   "cell_type": "code",
   "execution_count": 68,
   "metadata": {},
   "outputs": [],
   "source": [
    "#calculate model residuals\n",
    "multi_train_residuals = y_train - multi_train_predicts\n",
    "#multi_test_residuals = y_test - multi_train_predicts"
   ]
  },
  {
   "cell_type": "code",
   "execution_count": 70,
   "metadata": {},
   "outputs": [
    {
     "data": {
      "image/png": "[encoded data removed]",
      "text/plain": [
       "<Figure size 432x288 with 1 Axes>"
      ]
     },
     "metadata": {
      "needs_background": "light"
     },
     "output_type": "display_data"
    }
   ],
   "source": [
    "#test for normality\n",
    "plt.hist(multi_train_residuals, label = 'Train')\n",
    "plt.show();"
   ]
  },
  {
   "cell_type": "code",
   "execution_count": 75,
   "metadata": {},
   "outputs": [
    {
     "data": {
      "image/png": "[encoded data removed]",
      "text/plain": [
       "<Figure size 432x288 with 1 Axes>"
      ]
     },
     "metadata": {
      "needs_background": "light"
     },
     "output_type": "display_data"
    }
   ],
   "source": [
    "#QQplot\n",
    "sm.qqplot(multi_train_residuals, line='r');"
   ]
  },
  {
   "cell_type": "markdown",
   "metadata": {},
   "source": [
    "## Modeling Iterations\n",
    "\n",
    "See **modeling** notebooks for additional model iterations"
   ]
  },
  {
   "cell_type": "markdown",
   "metadata": {},
   "source": [
    "## Final Model"
   ]
  },
  {
   "cell_type": "code",
   "execution_count": 131,
   "metadata": {},
   "outputs": [
    {
     "data": {
      "text/html": [
       "<table class=\"simpletable\">\n",
       "<caption>OLS Regression Results</caption>\n",
       "<tr>\n",
       "  <th>Dep. Variable:</th>          <td>price</td>      <th>  R-squared:         </th>  <td>   0.535</td>  \n",
       "</tr>\n",
       "<tr>\n",
       "  <th>Model:</th>                   <td>OLS</td>       <th>  Adj. R-squared:    </th>  <td>   0.535</td>  \n",
       "</tr>\n",
       "<tr>\n",
       "  <th>Method:</th>             <td>Least Squares</td>  <th>  F-statistic:       </th>  <td>   6185.</td>  \n",
       "</tr>\n",
       "<tr>\n",
       "  <th>Date:</th>             <td>Fri, 08 Oct 2021</td> <th>  Prob (F-statistic):</th>   <td>  0.00</td>   \n",
       "</tr>\n",
       "<tr>\n",
       "  <th>Time:</th>                 <td>00:29:48</td>     <th>  Log-Likelihood:    </th> <td>-2.2067e+05</td>\n",
       "</tr>\n",
       "<tr>\n",
       "  <th>No. Observations:</th>      <td> 16110</td>      <th>  AIC:               </th>  <td>4.413e+05</td> \n",
       "</tr>\n",
       "<tr>\n",
       "  <th>Df Residuals:</th>          <td> 16106</td>      <th>  BIC:               </th>  <td>4.414e+05</td> \n",
       "</tr>\n",
       "<tr>\n",
       "  <th>Df Model:</th>              <td>     3</td>      <th>                     </th>      <td> </td>     \n",
       "</tr>\n",
       "<tr>\n",
       "  <th>Covariance Type:</th>      <td>nonrobust</td>    <th>                     </th>      <td> </td>     \n",
       "</tr>\n",
       "</table>\n",
       "<table class=\"simpletable\">\n",
       "<tr>\n",
       "       <td></td>          <th>coef</th>     <th>std err</th>      <th>t</th>      <th>P>|t|</th>  <th>[0.025</th>    <th>0.975]</th>  \n",
       "</tr>\n",
       "<tr>\n",
       "  <th>Intercept</th>   <td>-5.596e+05</td> <td> 1.34e+04</td> <td>  -41.914</td> <td> 0.000</td> <td>-5.86e+05</td> <td>-5.33e+05</td>\n",
       "</tr>\n",
       "<tr>\n",
       "  <th>grade</th>       <td>  1.08e+05</td> <td> 2299.943</td> <td>   46.953</td> <td> 0.000</td> <td> 1.03e+05</td> <td> 1.12e+05</td>\n",
       "</tr>\n",
       "<tr>\n",
       "  <th>sqft_living</th> <td>  160.3396</td> <td>    3.422</td> <td>   46.854</td> <td> 0.000</td> <td>  153.632</td> <td>  167.047</td>\n",
       "</tr>\n",
       "<tr>\n",
       "  <th>bathrooms</th>   <td>-3.216e+04</td> <td> 3478.807</td> <td>   -9.246</td> <td> 0.000</td> <td> -3.9e+04</td> <td>-2.53e+04</td>\n",
       "</tr>\n",
       "</table>\n",
       "<table class=\"simpletable\">\n",
       "<tr>\n",
       "  <th>Omnibus:</th>       <td>6130.454</td> <th>  Durbin-Watson:     </th> <td>   1.986</td> \n",
       "</tr>\n",
       "<tr>\n",
       "  <th>Prob(Omnibus):</th>  <td> 0.000</td>  <th>  Jarque-Bera (JB):  </th> <td>38348.107</td>\n",
       "</tr>\n",
       "<tr>\n",
       "  <th>Skew:</th>           <td> 1.702</td>  <th>  Prob(JB):          </th> <td>    0.00</td> \n",
       "</tr>\n",
       "<tr>\n",
       "  <th>Kurtosis:</th>       <td> 9.749</td>  <th>  Cond. No.          </th> <td>1.79e+04</td> \n",
       "</tr>\n",
       "</table><br/><br/>Notes:<br/>[1] Standard Errors assume that the covariance matrix of the errors is correctly specified.<br/>[2] The condition number is large, 1.79e+04. This might indicate that there are<br/>strong multicollinearity or other numerical problems."
      ],
      "text/plain": [
       "<class 'statsmodels.iolib.summary.Summary'>\n",
       "\"\"\"\n",
       "                            OLS Regression Results                            \n",
       "==============================================================================\n",
       "Dep. Variable:                  price   R-squared:                       0.535\n",
       "Model:                            OLS   Adj. R-squared:                  0.535\n",
       "Method:                 Least Squares   F-statistic:                     6185.\n",
       "Date:                Fri, 08 Oct 2021   Prob (F-statistic):               0.00\n",
       "Time:                        00:29:48   Log-Likelihood:            -2.2067e+05\n",
       "No. Observations:               16110   AIC:                         4.413e+05\n",
       "Df Residuals:                   16106   BIC:                         4.414e+05\n",
       "Df Model:                           3                                         \n",
       "Covariance Type:            nonrobust                                         \n",
       "===============================================================================\n",
       "                  coef    std err          t      P>|t|      [0.025      0.975]\n",
       "-------------------------------------------------------------------------------\n",
       "Intercept   -5.596e+05   1.34e+04    -41.914      0.000   -5.86e+05   -5.33e+05\n",
       "grade         1.08e+05   2299.943     46.953      0.000    1.03e+05    1.12e+05\n",
       "sqft_living   160.3396      3.422     46.854      0.000     153.632     167.047\n",
       "bathrooms   -3.216e+04   3478.807     -9.246      0.000    -3.9e+04   -2.53e+04\n",
       "==============================================================================\n",
       "Omnibus:                     6130.454   Durbin-Watson:                   1.986\n",
       "Prob(Omnibus):                  0.000   Jarque-Bera (JB):            38348.107\n",
       "Skew:                           1.702   Prob(JB):                         0.00\n",
       "Kurtosis:                       9.749   Cond. No.                     1.79e+04\n",
       "==============================================================================\n",
       "\n",
       "Notes:\n",
       "[1] Standard Errors assume that the covariance matrix of the errors is correctly specified.\n",
       "[2] The condition number is large, 1.79e+04. This might indicate that there are\n",
       "strong multicollinearity or other numerical problems.\n",
       "\"\"\""
      ]
     },
     "execution_count": 131,
     "metadata": {},
     "output_type": "execute_result"
    }
   ],
   "source": [
    "final_formula = 'price ~ grade + sqft_living + bathrooms'\n",
    "\n",
    "final_model = ols(formula = final_formula, data=train_df).fit()\n",
    "final_model.summary()"
   ]
  },
  {
   "cell_type": "code",
   "execution_count": 132,
   "metadata": {},
   "outputs": [
    {
     "data": {
      "text/plain": [
       "Intercept     -559583.191164\n",
       "grade          107989.116010\n",
       "sqft_living       160.339649\n",
       "bathrooms      -32163.842278\n",
       "dtype: float64"
      ]
     },
     "execution_count": 132,
     "metadata": {},
     "output_type": "execute_result"
    }
   ],
   "source": [
    "final_model.params"
   ]
  },
  {
   "cell_type": "code",
   "execution_count": 133,
   "metadata": {},
   "outputs": [],
   "source": [
    "#predictions of model\n",
    "final_train_predicts = final_model.predict()"
   ]
  },
  {
   "cell_type": "code",
   "execution_count": 134,
   "metadata": {},
   "outputs": [
    {
     "name": "stdout",
     "output_type": "stream",
     "text": [
      " r_squared: 0.54\n",
      " Mean Absolute Error: 151267.02\n",
      " Root Mean Squared Error: 215039.39\n"
     ]
    }
   ],
   "source": [
    "#Evaluating the model:\n",
    "print(f' r_squared: {r2_score(y_train, final_train_predicts):.2f}')\n",
    "print(f' Mean Absolute Error: {mean_absolute_error(y_train, final_train_predicts):.2f}')\n",
    "print(f' Root Mean Squared Error: {mean_squared_error(y_train, final_train_predicts, squared=False):.2f}')"
   ]
  },
  {
   "cell_type": "code",
   "execution_count": 138,
   "metadata": {},
   "outputs": [
    {
     "data": {
      "image/png": "[encoded data removed]",
      "text/plain": [
       "<Figure size 432x288 with 1 Axes>"
      ]
     },
     "metadata": {
      "needs_background": "light"
     },
     "output_type": "display_data"
    }
   ],
   "source": [
    "#residuals\n",
    "final_train_residuals = y_train - final_train_predicts\n",
    "final_test_residuals = y_test - final_train_residuals\n",
    "\n",
    "#test for normality\n",
    "plt.hist(final_train_residuals, label = 'Train')\n",
    "plt.show();"
   ]
  },
  {
   "cell_type": "code",
   "execution_count": 140,
   "metadata": {},
   "outputs": [
    {
     "data": {
      "image/png": "[encoded data removed]",
      "text/plain": [
       "<Figure size 432x288 with 1 Axes>"
      ]
     },
     "metadata": {
      "needs_background": "light"
     },
     "output_type": "display_data"
    }
   ],
   "source": [
    "#QQplot\n",
    "sm.qqplot(final_train_residuals, line='r');"
   ]
  },
  {
   "cell_type": "markdown",
   "metadata": {},
   "source": [
    "## Conclusions\n",
    "\n",
    "Homesellers in King County, Washington should consider the `grade` and `sqft_living` of their home before selling. \n",
    "\n",
    "Recommendation 1: Improve the overall grade of the home before sellin by adding custom features, finishing, and use of quality materials in building. Focusing on improving the grade of the home by one point will, on average, result in approximately $108,000 increase in the sale price of the house. \n",
    "\n",
    "Recommendation 2: Increase the home's square footage. Each square foot of home added will result, on average in a $160.00 sale price increase.\n",
    "\n",
    "While this model is able to account for approximately 54% of the variabnce, the error in the model is still quite high (151267.02). Focusing on reducing multicollinearity, and considering location as a variable in our model would likely result in a stronger model with less error. "
   ]
  },
  {
   "cell_type": "code",
   "execution_count": null,
   "metadata": {},
   "outputs": [],
   "source": []
  }
 ],
 "metadata": {
  "kernelspec": {
   "display_name": "(learn-env)",
   "language": "python",
   "name": "learn-env"
  },
  "language_info": {
   "codemirror_mode": {
    "name": "ipython",
    "version": 3
   },
   "file_extension": ".py",
   "mimetype": "text/x-python",
   "name": "python",
   "nbconvert_exporter": "python",
   "pygments_lexer": "ipython3",
   "version": "3.8.5"
  }
 },
 "nbformat": 4,
 "nbformat_minor": 4
}
