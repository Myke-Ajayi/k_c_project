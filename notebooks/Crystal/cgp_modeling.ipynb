{
 "cells": [
  {
   "cell_type": "code",
   "execution_count": 1,
   "metadata": {},
   "outputs": [],
   "source": [
    "import numpy as np\n",
    "import pandas as pd\n",
    "\n",
    "import matplotlib.pyplot as plt\n",
    "import seaborn as sns\n",
    "\n",
    "from statsmodels.formula.api import ols\n",
    "import statsmodels.api as sm\n",
    "from sklearn.preprocessing import OneHotEncoder\n",
    "from sklearn.preprocessing import StandardScaler\n",
    "from sklearn.metrics import r2_score, mean_squared_error, mean_absolute_error"
   ]
  },
  {
   "cell_type": "code",
   "execution_count": 2,
   "metadata": {},
   "outputs": [],
   "source": [
    "X_train = pd.read_csv('../../data/X_train.csv', index_col=0)\n",
    "X_test = pd.read_csv('../../data/X_test.csv', index_col=0)\n",
    "y_train = pd.read_csv('../../data/y_train.csv', index_col=0)\n",
    "y_test = pd.read_csv('../../data/y_test.csv', index_col=0)"
   ]
  },
  {
   "cell_type": "code",
   "execution_count": 3,
   "metadata": {},
   "outputs": [],
   "source": [
    "train_df = pd.concat([X_train, y_train], axis=1)\n",
    "train_df = train_df.drop(columns = ['id', 'coordinates'])\n",
    "test_df = pd.concat([X_test, y_test], axis=1)\n",
    "test_df = test_df.drop(columns=['id', 'coordinates'])"
   ]
  },
  {
   "cell_type": "code",
   "execution_count": 4,
   "metadata": {},
   "outputs": [],
   "source": [
    "#create a 'new_construction' feature\n",
    "train_df['new_construction'] = (train_df['yr_built']>2009) | (train_df['yr_renovated']>2009)\n",
    "test_df['new_construction'] = (test_df['yr_built']> 2009) |(test_df['yr_renovated']>2009)"
   ]
  },
  {
   "cell_type": "code",
   "execution_count": 5,
   "metadata": {},
   "outputs": [],
   "source": [
    "numeric = train_df.select_dtypes(include=\"number\")\n",
    "numeric = numeric.drop(columns=['yr_built', 'yr_renovated'])\n",
    "train_df = train_df.drop(columns=['yr_built', 'yr_renovated'])\n",
    "numeric_cols = numeric.columns"
   ]
  },
  {
   "cell_type": "code",
   "execution_count": 6,
   "metadata": {},
   "outputs": [],
   "source": [
    "categorical = train_df.select_dtypes(exclude=\"number\")\n",
    "category_cols = categorical.columns"
   ]
  },
  {
   "cell_type": "code",
   "execution_count": 7,
   "metadata": {},
   "outputs": [
    {
     "data": {
      "text/plain": [
       "(16197, 18)"
      ]
     },
     "execution_count": 7,
     "metadata": {},
     "output_type": "execute_result"
    }
   ],
   "source": [
    "train_df.shape"
   ]
  },
  {
   "cell_type": "code",
   "execution_count": 8,
   "metadata": {},
   "outputs": [
    {
     "data": {
      "text/plain": [
       "False    15172\n",
       "True      1025\n",
       "Name: new_construction, dtype: int64"
      ]
     },
     "execution_count": 8,
     "metadata": {},
     "output_type": "execute_result"
    }
   ],
   "source": [
    "train_df['new_construction'].value_counts()"
   ]
  },
  {
   "cell_type": "code",
   "execution_count": 9,
   "metadata": {},
   "outputs": [
    {
     "data": {
      "text/plain": [
       "(15658, 18)"
      ]
     },
     "execution_count": 9,
     "metadata": {},
     "output_type": "execute_result"
    }
   ],
   "source": [
    "Q1 = train_df.quantile(0.05)\n",
    "Q3 = train_df.quantile(0.95)\n",
    "IQR = Q3 - Q1\n",
    "train_df = train_df[~((train_df < (Q1-1.5*IQR)) | (train_df> (Q3 + 1.5*IQR))).any(axis=1)]\n",
    "\n",
    "train_df.shape"
   ]
  },
  {
   "cell_type": "code",
   "execution_count": 10,
   "metadata": {},
   "outputs": [
    {
     "name": "stdout",
     "output_type": "stream",
     "text": [
      "<class 'pandas.core.frame.DataFrame'>\n",
      "Int64Index: 15658 entries, 6405 to 15795\n",
      "Data columns (total 18 columns):\n",
      " #   Column                     Non-Null Count  Dtype  \n",
      "---  ------                     --------------  -----  \n",
      " 0   bedrooms                   15658 non-null  int64  \n",
      " 1   bathrooms                  15658 non-null  float64\n",
      " 2   sqft_living                15658 non-null  int64  \n",
      " 3   sqft_lot                   15658 non-null  int64  \n",
      " 4   floors                     15658 non-null  float64\n",
      " 5   condition                  15658 non-null  object \n",
      " 6   grade                      15658 non-null  int64  \n",
      " 7   sqft_above                 15658 non-null  int64  \n",
      " 8   sqft_basement              15658 non-null  float64\n",
      " 9   sqft_living15              15658 non-null  int64  \n",
      " 10  sqft_lot15                 15658 non-null  int64  \n",
      " 11  bedrooms_bathrooms         15658 non-null  float64\n",
      " 12  sqft_lot_sqft_living       15658 non-null  float64\n",
      " 13  sqft_living_sqft_living15  15658 non-null  float64\n",
      " 14  sqft_living_bedrooms       15658 non-null  float64\n",
      " 15  grade_category             15658 non-null  object \n",
      " 16  price                      15658 non-null  float64\n",
      " 17  new_construction           15658 non-null  bool   \n",
      "dtypes: bool(1), float64(8), int64(7), object(2)\n",
      "memory usage: 2.2+ MB\n"
     ]
    }
   ],
   "source": [
    "train_df.info()"
   ]
  },
  {
   "cell_type": "markdown",
   "metadata": {},
   "source": [
    "# Standarization"
   ]
  },
  {
   "cell_type": "code",
   "execution_count": 11,
   "metadata": {
    "scrolled": true
   },
   "outputs": [],
   "source": [
    "# plt.figure(figsize = (10, 10))\n",
    "# sns.pairplot(train_df)"
   ]
  },
  {
   "cell_type": "markdown",
   "metadata": {},
   "source": [
    "Log transform right skewed variables"
   ]
  },
  {
   "cell_type": "code",
   "execution_count": 12,
   "metadata": {},
   "outputs": [],
   "source": [
    "def log_transform(df, column): \n",
    "    '''\n",
    "    Input: \n",
    "    df = DataFrame\n",
    "    column = column name as string\n",
    "    \n",
    "    Output: \n",
    "    log of values in column\n",
    "    '''\n",
    "    df[column] = np.log(df[column])"
   ]
  },
  {
   "cell_type": "code",
   "execution_count": 13,
   "metadata": {},
   "outputs": [],
   "source": [
    "log_transform(train_df, 'price')\n",
    "log_transform(test_df, 'price')"
   ]
  },
  {
   "cell_type": "code",
   "execution_count": 14,
   "metadata": {},
   "outputs": [],
   "source": [
    "log_transform(train_df, 'sqft_living_bedrooms')\n",
    "log_transform(test_df, 'sqft_living_bedrooms')"
   ]
  },
  {
   "cell_type": "code",
   "execution_count": 15,
   "metadata": {},
   "outputs": [],
   "source": [
    "log_transform(train_df, 'bedrooms_bathrooms')\n",
    "log_transform(test_df, 'bedrooms_bathrooms')"
   ]
  },
  {
   "cell_type": "markdown",
   "metadata": {},
   "source": [
    "Standard Scale"
   ]
  },
  {
   "cell_type": "code",
   "execution_count": 16,
   "metadata": {},
   "outputs": [],
   "source": [
    "X_train = train_df.drop(columns='price')\n",
    "y_train = train_df['price']"
   ]
  },
  {
   "cell_type": "code",
   "execution_count": 17,
   "metadata": {},
   "outputs": [],
   "source": [
    "X_test = test_df.drop(columns='price')\n",
    "y_test = test_df['price']"
   ]
  },
  {
   "cell_type": "code",
   "execution_count": 18,
   "metadata": {},
   "outputs": [],
   "source": [
    "#defining columns to be encoded vs scaled\n",
    "cols_to_scale = list(X_train.select_dtypes(include='number').columns)\n",
    "cols_to_encode = list(X_train.select_dtypes(exclude='number').columns)"
   ]
  },
  {
   "cell_type": "code",
   "execution_count": 19,
   "metadata": {},
   "outputs": [],
   "source": [
    "# Instantiate a new scaler\n",
    "scaler = StandardScaler()\n",
    "ohe = OneHotEncoder(sparse=False)"
   ]
  },
  {
   "cell_type": "code",
   "execution_count": 20,
   "metadata": {},
   "outputs": [],
   "source": [
    "#scale numeric columns\n",
    "scaler.fit(X_train[cols_to_scale])\n",
    "scaled_columns = scaler.transform(X_train[cols_to_scale])\n",
    "\n",
    "\n",
    "#encode categorial columns\n",
    "ohe.fit(X_train[cols_to_encode])\n",
    "encoded_columns = ohe.transform(X_train[cols_to_encode])"
   ]
  },
  {
   "cell_type": "code",
   "execution_count": 21,
   "metadata": {},
   "outputs": [],
   "source": [
    "#create dataframe with column names\n",
    "scaled_columns = pd.DataFrame(scaled_columns, columns=cols_to_scale)"
   ]
  },
  {
   "cell_type": "code",
   "execution_count": 22,
   "metadata": {},
   "outputs": [],
   "source": [
    "encoded_columns = pd.DataFrame(encoded_columns, columns=(ohe.get_feature_names()))"
   ]
  },
  {
   "cell_type": "code",
   "execution_count": 23,
   "metadata": {},
   "outputs": [],
   "source": [
    "#Concatenate processed columns together\n",
    "X_train_scaled = pd.concat([scaled_columns, encoded_columns], axis=1)\n"
   ]
  },
  {
   "cell_type": "code",
   "execution_count": 24,
   "metadata": {},
   "outputs": [
    {
     "name": "stdout",
     "output_type": "stream",
     "text": [
      "<class 'pandas.core.frame.DataFrame'>\n",
      "Int64Index: 19950 entries, 0 to 21596\n",
      "Data columns (total 25 columns):\n",
      " #   Column                     Non-Null Count  Dtype  \n",
      "---  ------                     --------------  -----  \n",
      " 0   bedrooms                   15658 non-null  float64\n",
      " 1   bathrooms                  15658 non-null  float64\n",
      " 2   sqft_living                15658 non-null  float64\n",
      " 3   sqft_lot                   15658 non-null  float64\n",
      " 4   floors                     15658 non-null  float64\n",
      " 5   grade                      15658 non-null  float64\n",
      " 6   sqft_above                 15658 non-null  float64\n",
      " 7   sqft_basement              15658 non-null  float64\n",
      " 8   sqft_living15              15658 non-null  float64\n",
      " 9   sqft_lot15                 15658 non-null  float64\n",
      " 10  bedrooms_bathrooms         15658 non-null  float64\n",
      " 11  sqft_lot_sqft_living       15658 non-null  float64\n",
      " 12  sqft_living_sqft_living15  15658 non-null  float64\n",
      " 13  sqft_living_bedrooms       15658 non-null  float64\n",
      " 14  x0_Average                 15658 non-null  float64\n",
      " 15  x0_Fair                    15658 non-null  float64\n",
      " 16  x0_Good                    15658 non-null  float64\n",
      " 17  x0_Poor                    15658 non-null  float64\n",
      " 18  x0_Very Good               15658 non-null  float64\n",
      " 19  x1_high                    15658 non-null  float64\n",
      " 20  x1_low                     15658 non-null  float64\n",
      " 21  x1_medium                  15658 non-null  float64\n",
      " 22  x2_False                   15658 non-null  float64\n",
      " 23  x2_True                    15658 non-null  float64\n",
      " 24  price                      15658 non-null  float64\n",
      "dtypes: float64(25)\n",
      "memory usage: 4.0 MB\n"
     ]
    }
   ],
   "source": [
    "#concatentate with y_train to include target\n",
    "train_df_scaled = pd.concat([X_train_scaled, y_train], axis=1)\n",
    "train_df_scaled.info()"
   ]
  },
  {
   "cell_type": "markdown",
   "metadata": {},
   "source": [
    "## Model with tranformed data"
   ]
  },
  {
   "cell_type": "markdown",
   "metadata": {},
   "source": [
    "Simple models: "
   ]
  },
  {
   "cell_type": "code",
   "execution_count": 30,
   "metadata": {},
   "outputs": [
    {
     "data": {
      "text/html": [
       "<table class=\"simpletable\">\n",
       "<caption>OLS Regression Results</caption>\n",
       "<tr>\n",
       "  <th>Dep. Variable:</th>          <td>price</td>      <th>  R-squared:         </th> <td>   0.000</td> \n",
       "</tr>\n",
       "<tr>\n",
       "  <th>Model:</th>                   <td>OLS</td>       <th>  Adj. R-squared:    </th> <td>  -0.000</td> \n",
       "</tr>\n",
       "<tr>\n",
       "  <th>Method:</th>             <td>Least Squares</td>  <th>  F-statistic:       </th> <td> 0.03792</td> \n",
       "</tr>\n",
       "<tr>\n",
       "  <th>Date:</th>             <td>Tue, 05 Oct 2021</td> <th>  Prob (F-statistic):</th>  <td> 0.963</td>  \n",
       "</tr>\n",
       "<tr>\n",
       "  <th>Time:</th>                 <td>21:05:42</td>     <th>  Log-Likelihood:    </th> <td> -8592.4</td> \n",
       "</tr>\n",
       "<tr>\n",
       "  <th>No. Observations:</th>      <td> 11366</td>      <th>  AIC:               </th> <td>1.719e+04</td>\n",
       "</tr>\n",
       "<tr>\n",
       "  <th>Df Residuals:</th>          <td> 11363</td>      <th>  BIC:               </th> <td>1.721e+04</td>\n",
       "</tr>\n",
       "<tr>\n",
       "  <th>Df Model:</th>              <td>     2</td>      <th>                     </th>     <td> </td>    \n",
       "</tr>\n",
       "<tr>\n",
       "  <th>Covariance Type:</th>      <td>nonrobust</td>    <th>                     </th>     <td> </td>    \n",
       "</tr>\n",
       "</table>\n",
       "<table class=\"simpletable\">\n",
       "<tr>\n",
       "       <td></td>          <th>coef</th>     <th>std err</th>      <th>t</th>      <th>P>|t|</th>  <th>[0.025</th>    <th>0.975]</th>  \n",
       "</tr>\n",
       "<tr>\n",
       "  <th>Intercept</th>   <td>   13.0226</td> <td>    0.005</td> <td> 2693.778</td> <td> 0.000</td> <td>   13.013</td> <td>   13.032</td>\n",
       "</tr>\n",
       "<tr>\n",
       "  <th>sqft_living</th> <td>   -0.0006</td> <td>    0.007</td> <td>   -0.083</td> <td> 0.934</td> <td>   -0.015</td> <td>    0.014</td>\n",
       "</tr>\n",
       "<tr>\n",
       "  <th>grade</th>       <td>   -0.0008</td> <td>    0.007</td> <td>   -0.111</td> <td> 0.911</td> <td>   -0.015</td> <td>    0.013</td>\n",
       "</tr>\n",
       "</table>\n",
       "<table class=\"simpletable\">\n",
       "<tr>\n",
       "  <th>Omnibus:</th>       <td>158.109</td> <th>  Durbin-Watson:     </th> <td>   1.975</td>\n",
       "</tr>\n",
       "<tr>\n",
       "  <th>Prob(Omnibus):</th> <td> 0.000</td>  <th>  Jarque-Bera (JB):  </th> <td> 166.542</td>\n",
       "</tr>\n",
       "<tr>\n",
       "  <th>Skew:</th>          <td> 0.278</td>  <th>  Prob(JB):          </th> <td>6.85e-37</td>\n",
       "</tr>\n",
       "<tr>\n",
       "  <th>Kurtosis:</th>      <td> 3.208</td>  <th>  Cond. No.          </th> <td>    2.65</td>\n",
       "</tr>\n",
       "</table><br/><br/>Notes:<br/>[1] Standard Errors assume that the covariance matrix of the errors is correctly specified."
      ],
      "text/plain": [
       "<class 'statsmodels.iolib.summary.Summary'>\n",
       "\"\"\"\n",
       "                            OLS Regression Results                            \n",
       "==============================================================================\n",
       "Dep. Variable:                  price   R-squared:                       0.000\n",
       "Model:                            OLS   Adj. R-squared:                 -0.000\n",
       "Method:                 Least Squares   F-statistic:                   0.03792\n",
       "Date:                Tue, 05 Oct 2021   Prob (F-statistic):              0.963\n",
       "Time:                        21:05:42   Log-Likelihood:                -8592.4\n",
       "No. Observations:               11366   AIC:                         1.719e+04\n",
       "Df Residuals:                   11363   BIC:                         1.721e+04\n",
       "Df Model:                           2                                         \n",
       "Covariance Type:            nonrobust                                         \n",
       "===============================================================================\n",
       "                  coef    std err          t      P>|t|      [0.025      0.975]\n",
       "-------------------------------------------------------------------------------\n",
       "Intercept      13.0226      0.005   2693.778      0.000      13.013      13.032\n",
       "sqft_living    -0.0006      0.007     -0.083      0.934      -0.015       0.014\n",
       "grade          -0.0008      0.007     -0.111      0.911      -0.015       0.013\n",
       "==============================================================================\n",
       "Omnibus:                      158.109   Durbin-Watson:                   1.975\n",
       "Prob(Omnibus):                  0.000   Jarque-Bera (JB):              166.542\n",
       "Skew:                           0.278   Prob(JB):                     6.85e-37\n",
       "Kurtosis:                       3.208   Cond. No.                         2.65\n",
       "==============================================================================\n",
       "\n",
       "Notes:\n",
       "[1] Standard Errors assume that the covariance matrix of the errors is correctly specified.\n",
       "\"\"\""
      ]
     },
     "execution_count": 30,
     "metadata": {},
     "output_type": "execute_result"
    }
   ],
   "source": [
    "formula = 'price ~ sqft_living + grade'\n",
    "\n",
    "model = ols(formula=formula, data=train_df_scaled).fit()\n",
    "model.summary()"
   ]
  },
  {
   "cell_type": "code",
   "execution_count": 26,
   "metadata": {},
   "outputs": [
    {
     "data": {
      "text/plain": [
       "<AxesSubplot:xlabel='sqft_living', ylabel='price'>"
      ]
     },
     "execution_count": 26,
     "metadata": {},
     "output_type": "execute_result"
    },
    {
     "data": {
      "image/png": "[encoded data removed]",
      "text/plain": [
       "<Figure size 432x288 with 1 Axes>"
      ]
     },
     "metadata": {
      "needs_background": "light"
     },
     "output_type": "display_data"
    }
   ],
   "source": [
    "sns.histplot(train_df, x=train_df['sqft_living'], y=train_df['price'])"
   ]
  },
  {
   "cell_type": "code",
   "execution_count": 29,
   "metadata": {},
   "outputs": [
    {
     "data": {
      "text/html": [
       "<table class=\"simpletable\">\n",
       "<caption>OLS Regression Results</caption>\n",
       "<tr>\n",
       "  <th>Dep. Variable:</th>          <td>price</td>      <th>  R-squared:         </th> <td>   0.472</td> \n",
       "</tr>\n",
       "<tr>\n",
       "  <th>Model:</th>                   <td>OLS</td>       <th>  Adj. R-squared:    </th> <td>   0.472</td> \n",
       "</tr>\n",
       "<tr>\n",
       "  <th>Method:</th>             <td>Least Squares</td>  <th>  F-statistic:       </th> <td>1.401e+04</td>\n",
       "</tr>\n",
       "<tr>\n",
       "  <th>Date:</th>             <td>Tue, 05 Oct 2021</td> <th>  Prob (F-statistic):</th>  <td>  0.00</td>  \n",
       "</tr>\n",
       "<tr>\n",
       "  <th>Time:</th>                 <td>21:05:18</td>     <th>  Log-Likelihood:    </th> <td> -6760.3</td> \n",
       "</tr>\n",
       "<tr>\n",
       "  <th>No. Observations:</th>      <td> 15658</td>      <th>  AIC:               </th> <td>1.352e+04</td>\n",
       "</tr>\n",
       "<tr>\n",
       "  <th>Df Residuals:</th>          <td> 15656</td>      <th>  BIC:               </th> <td>1.354e+04</td>\n",
       "</tr>\n",
       "<tr>\n",
       "  <th>Df Model:</th>              <td>     1</td>      <th>                     </th>     <td> </td>    \n",
       "</tr>\n",
       "<tr>\n",
       "  <th>Covariance Type:</th>      <td>nonrobust</td>    <th>                     </th>     <td> </td>    \n",
       "</tr>\n",
       "</table>\n",
       "<table class=\"simpletable\">\n",
       "<tr>\n",
       "      <td></td>         <th>coef</th>     <th>std err</th>      <th>t</th>      <th>P>|t|</th>  <th>[0.025</th>    <th>0.975]</th>  \n",
       "</tr>\n",
       "<tr>\n",
       "  <th>Intercept</th> <td>   10.6633</td> <td>    0.020</td> <td>  526.022</td> <td> 0.000</td> <td>   10.624</td> <td>   10.703</td>\n",
       "</tr>\n",
       "<tr>\n",
       "  <th>grade</th>     <td>    0.3110</td> <td>    0.003</td> <td>  118.367</td> <td> 0.000</td> <td>    0.306</td> <td>    0.316</td>\n",
       "</tr>\n",
       "</table>\n",
       "<table class=\"simpletable\">\n",
       "<tr>\n",
       "  <th>Omnibus:</th>       <td>61.456</td> <th>  Durbin-Watson:     </th> <td>   1.986</td>\n",
       "</tr>\n",
       "<tr>\n",
       "  <th>Prob(Omnibus):</th> <td> 0.000</td> <th>  Jarque-Bera (JB):  </th> <td>  62.077</td>\n",
       "</tr>\n",
       "<tr>\n",
       "  <th>Skew:</th>          <td> 0.153</td> <th>  Prob(JB):          </th> <td>3.31e-14</td>\n",
       "</tr>\n",
       "<tr>\n",
       "  <th>Kurtosis:</th>      <td> 3.038</td> <th>  Cond. No.          </th> <td>    53.4</td>\n",
       "</tr>\n",
       "</table><br/><br/>Notes:<br/>[1] Standard Errors assume that the covariance matrix of the errors is correctly specified."
      ],
      "text/plain": [
       "<class 'statsmodels.iolib.summary.Summary'>\n",
       "\"\"\"\n",
       "                            OLS Regression Results                            \n",
       "==============================================================================\n",
       "Dep. Variable:                  price   R-squared:                       0.472\n",
       "Model:                            OLS   Adj. R-squared:                  0.472\n",
       "Method:                 Least Squares   F-statistic:                 1.401e+04\n",
       "Date:                Tue, 05 Oct 2021   Prob (F-statistic):               0.00\n",
       "Time:                        21:05:18   Log-Likelihood:                -6760.3\n",
       "No. Observations:               15658   AIC:                         1.352e+04\n",
       "Df Residuals:                   15656   BIC:                         1.354e+04\n",
       "Df Model:                           1                                         \n",
       "Covariance Type:            nonrobust                                         \n",
       "==============================================================================\n",
       "                 coef    std err          t      P>|t|      [0.025      0.975]\n",
       "------------------------------------------------------------------------------\n",
       "Intercept     10.6633      0.020    526.022      0.000      10.624      10.703\n",
       "grade          0.3110      0.003    118.367      0.000       0.306       0.316\n",
       "==============================================================================\n",
       "Omnibus:                       61.456   Durbin-Watson:                   1.986\n",
       "Prob(Omnibus):                  0.000   Jarque-Bera (JB):               62.077\n",
       "Skew:                           0.153   Prob(JB):                     3.31e-14\n",
       "Kurtosis:                       3.038   Cond. No.                         53.4\n",
       "==============================================================================\n",
       "\n",
       "Notes:\n",
       "[1] Standard Errors assume that the covariance matrix of the errors is correctly specified.\n",
       "\"\"\""
      ]
     },
     "execution_count": 29,
     "metadata": {},
     "output_type": "execute_result"
    }
   ],
   "source": [
    "formula = 'price ~ grade'\n",
    "\n",
    "model = ols(formula=formula, data=train_df).fit()\n",
    "model.summary()"
   ]
  },
  {
   "cell_type": "code",
   "execution_count": 28,
   "metadata": {},
   "outputs": [
    {
     "data": {
      "text/html": [
       "<div>\n",
       "<style scoped>\n",
       "    .dataframe tbody tr th:only-of-type {\n",
       "        vertical-align: middle;\n",
       "    }\n",
       "\n",
       "    .dataframe tbody tr th {\n",
       "        vertical-align: top;\n",
       "    }\n",
       "\n",
       "    .dataframe thead th {\n",
       "        text-align: right;\n",
       "    }\n",
       "</style>\n",
       "<table border=\"1\" class=\"dataframe\">\n",
       "  <thead>\n",
       "    <tr style=\"text-align: right;\">\n",
       "      <th></th>\n",
       "      <th>price</th>\n",
       "    </tr>\n",
       "  </thead>\n",
       "  <tbody>\n",
       "    <tr>\n",
       "      <th>price</th>\n",
       "      <td>1.000000</td>\n",
       "    </tr>\n",
       "    <tr>\n",
       "      <th>grade</th>\n",
       "      <td>0.687218</td>\n",
       "    </tr>\n",
       "    <tr>\n",
       "      <th>sqft_living</th>\n",
       "      <td>0.677174</td>\n",
       "    </tr>\n",
       "    <tr>\n",
       "      <th>sqft_living15</th>\n",
       "      <td>0.611918</td>\n",
       "    </tr>\n",
       "    <tr>\n",
       "      <th>sqft_above</th>\n",
       "      <td>0.576399</td>\n",
       "    </tr>\n",
       "    <tr>\n",
       "      <th>sqft_living_bedrooms</th>\n",
       "      <td>0.570207</td>\n",
       "    </tr>\n",
       "    <tr>\n",
       "      <th>bathrooms</th>\n",
       "      <td>0.528932</td>\n",
       "    </tr>\n",
       "    <tr>\n",
       "      <th>bedrooms</th>\n",
       "      <td>0.342214</td>\n",
       "    </tr>\n",
       "    <tr>\n",
       "      <th>floors</th>\n",
       "      <td>0.303031</td>\n",
       "    </tr>\n",
       "    <tr>\n",
       "      <th>sqft_basement</th>\n",
       "      <td>0.297911</td>\n",
       "    </tr>\n",
       "    <tr>\n",
       "      <th>sqft_living_sqft_living15</th>\n",
       "      <td>0.280889</td>\n",
       "    </tr>\n",
       "    <tr>\n",
       "      <th>sqft_lot</th>\n",
       "      <td>0.144423</td>\n",
       "    </tr>\n",
       "    <tr>\n",
       "      <th>sqft_lot15</th>\n",
       "      <td>0.132622</td>\n",
       "    </tr>\n",
       "    <tr>\n",
       "      <th>new_construction</th>\n",
       "      <td>0.094854</td>\n",
       "    </tr>\n",
       "    <tr>\n",
       "      <th>sqft_lot_sqft_living</th>\n",
       "      <td>-0.180523</td>\n",
       "    </tr>\n",
       "    <tr>\n",
       "      <th>bedrooms_bathrooms</th>\n",
       "      <td>-0.302486</td>\n",
       "    </tr>\n",
       "  </tbody>\n",
       "</table>\n",
       "</div>"
      ],
      "text/plain": [
       "                              price\n",
       "price                      1.000000\n",
       "grade                      0.687218\n",
       "sqft_living                0.677174\n",
       "sqft_living15              0.611918\n",
       "sqft_above                 0.576399\n",
       "sqft_living_bedrooms       0.570207\n",
       "bathrooms                  0.528932\n",
       "bedrooms                   0.342214\n",
       "floors                     0.303031\n",
       "sqft_basement              0.297911\n",
       "sqft_living_sqft_living15  0.280889\n",
       "sqft_lot                   0.144423\n",
       "sqft_lot15                 0.132622\n",
       "new_construction           0.094854\n",
       "sqft_lot_sqft_living      -0.180523\n",
       "bedrooms_bathrooms        -0.302486"
      ]
     },
     "execution_count": 28,
     "metadata": {},
     "output_type": "execute_result"
    }
   ],
   "source": [
    "train_df.corr()[['price']].sort_values(by='price', ascending=False)"
   ]
  },
  {
   "cell_type": "code",
   "execution_count": null,
   "metadata": {},
   "outputs": [],
   "source": []
  }
 ],
 "metadata": {
  "kernelspec": {
   "display_name": "Python 3",
   "language": "python",
   "name": "python3"
  },
  "language_info": {
   "codemirror_mode": {
    "name": "ipython",
    "version": 3
   },
   "file_extension": ".py",
   "mimetype": "text/x-python",
   "name": "python",
   "nbconvert_exporter": "python",
   "pygments_lexer": "ipython3",
   "version": "3.8.5"
  }
 },
 "nbformat": 4,
 "nbformat_minor": 4
}
